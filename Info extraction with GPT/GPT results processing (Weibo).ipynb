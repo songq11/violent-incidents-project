{
 "cells": [
  {
   "cell_type": "code",
   "execution_count": null,
   "id": "2184a5af-9612-4c91-b5d0-375d7ef804f0",
   "metadata": {},
   "outputs": [],
   "source": [
    "# This notebook integrates the results of GPT-4o to the Weibo dataset and compares GPT-4o results with some hand-labeled results"
   ]
  },
  {
   "cell_type": "code",
   "execution_count": null,
   "id": "f4fc8f7f-e965-4533-9f21-6113c61ab6e4",
   "metadata": {},
   "outputs": [],
   "source": [
    "import pandas as pd\n",
    "df = pd.read_pickle('../all_tweets_cleaned.pkl')\n",
    "df.info()"
   ]
  },
  {
   "cell_type": "code",
   "execution_count": null,
   "id": "096a265f-7647-4548-bc89-e7e2632634ba",
   "metadata": {},
   "outputs": [],
   "source": [
    "df_rel = df[df['relevance'] == 1]\n",
    "df_rel.info()"
   ]
  },
  {
   "cell_type": "markdown",
   "id": "6cbaf993-9f3a-45bb-bd8f-bb840ea711ee",
   "metadata": {},
   "source": [
    "# 1st layer of classification"
   ]
  },
  {
   "cell_type": "code",
   "execution_count": null,
   "id": "6a7e4e96-9f6a-401a-aa8e-0fa5b1c48cfe",
   "metadata": {},
   "outputs": [],
   "source": [
    "hand_coded_id = \"\"\"\n",
    "MdvkbCJlY\n",
    "LxAxIg7uA\n",
    "Dr7MuDuXE\n",
    "Hq42B2za8\n",
    "KkgX5vcXZ\n",
    "A6ZFrxjdU\n",
    "EdwYXCJJM\n",
    "xn31RAtLB\n",
    "GEwLyFq2R\n",
    "GbFbhgoTw\n",
    "Gvuc5gblR\n",
    "LxBjPzsdN\n",
    "GEtA5imLb\n",
    "Ewj5tiyUx\n",
    "LxyIECqzH\n",
    "JAvEEyqX2\n",
    "GyzIV0kgR\n",
    "Ob1wQ6BVJ\n",
    "y7j2kEblj\n",
    "KCvKzbrnj\n",
    "Kl2tTETrV\n",
    "yxgqP28gG\n",
    "I3Betj6Pq\n",
    "yw2KixPnb\n",
    "zpbxZFCEl\n",
    "KtZU4AyIR\n",
    "KnEtgz81L\n",
    "NaNEk5kHX\n",
    "LxvHH3Qwe\n",
    "M2rq2qPAH\n",
    "JgXGMFK0G\"\"\"\n",
    "\n",
    "id_list = [line.strip() for line in hand_coded_id.strip().split('\\n')]\n",
    "\n",
    "# Output the result\n",
    "print(id_list)"
   ]
  },
  {
   "cell_type": "code",
   "execution_count": null,
   "id": "7e315e1a-b23a-4ab5-81a2-a8b6b95b8efe",
   "metadata": {},
   "outputs": [],
   "source": [
    "# hand_coded data on variable \"dispute_area\"\n",
    "\n",
    "result_hand = \"\"\"\n",
    "2\n",
    "-1\n",
    "-1\n",
    "6\n",
    "2\n",
    "2\n",
    "4\n",
    "1\n",
    "1\n",
    "-1\n",
    "2\n",
    "99\n",
    "1\n",
    "1\n",
    "99\n",
    "1\n",
    "1\n",
    "1\n",
    "2\n",
    "99\n",
    "6\n",
    "3\n",
    "6\n",
    "4\n",
    "2\n",
    "-1\n",
    "99\n",
    "7\n",
    "1\n",
    "4\n",
    "2\"\"\"\n",
    "\n",
    "# 99 means the tweet is irrelevant\n",
    "result_list = [line.strip() for line in result_hand.strip().split('\\n')]\n",
    "result_list = [int(x) for x in result_list]\n",
    "\n",
    "# Output the result\n",
    "print(result_list)"
   ]
  },
  {
   "cell_type": "code",
   "execution_count": null,
   "id": "3ce83197-9124-4af6-bbf6-0abceba833ea",
   "metadata": {},
   "outputs": [],
   "source": [
    "coded_data = df_rel['mblogid'].isin(id_list)\n",
    "df_rel[~coded_data].to_pickle('../for_gpt_classification.pkl')"
   ]
  },
  {
   "cell_type": "code",
   "execution_count": null,
   "id": "d86bfbca-6986-4bc0-9eba-a5dd46f6f262",
   "metadata": {},
   "outputs": [],
   "source": [
    "df_rel[~coded_data].info()"
   ]
  },
  {
   "cell_type": "code",
   "execution_count": null,
   "id": "01a9eda4-ac0c-4e2b-880b-39a30d1b7dd8",
   "metadata": {
    "scrolled": true
   },
   "outputs": [],
   "source": [
    "import json\n",
    "from pathlib import Path\n",
    "fpath = Path('classification_1st_layer.json')\n",
    "result = json.loads(fpath.read_text())\n",
    "result"
   ]
  },
  {
   "cell_type": "code",
   "execution_count": null,
   "id": "38a65efb-c49c-4985-b866-db3afccf2da6",
   "metadata": {},
   "outputs": [],
   "source": [
    "gpt_df = pd.DataFrame.from_dict(result, orient='index', columns=['reason','dispute_area'])\n",
    "gpt_df.reset_index(inplace=True)\n",
    "gpt_df.rename(columns={'index': 'mblogid'}, inplace=True)\n",
    "gpt_df.info()\n",
    "gpt_df['dispute_area'].value_counts()"
   ]
  },
  {
   "cell_type": "code",
   "execution_count": null,
   "id": "940c4b7b-41f2-4aff-88c6-613db446e937",
   "metadata": {},
   "outputs": [],
   "source": [
    "# Merge df and gpt_df by tweet id\n",
    "df_gpt_classified = pd.merge(df_rel, gpt_df, how='left', on='mblogid')\n",
    "df_gpt_classified.info()"
   ]
  },
  {
   "cell_type": "code",
   "execution_count": null,
   "id": "2ad3e2b1-3028-4e20-aad6-965759076805",
   "metadata": {
    "scrolled": true
   },
   "outputs": [],
   "source": [
    "# Fill in hand coded data\n",
    "# Create a dataframe \n",
    "df_hand_result = pd.DataFrame({\n",
    "    'mblogid': id_list,\n",
    "    'dispute_area_y': result_list\n",
    "})\n",
    "df_hand_result"
   ]
  },
  {
   "cell_type": "code",
   "execution_count": null,
   "id": "caa82fc2-a440-4494-960d-dd26537a3ab0",
   "metadata": {},
   "outputs": [],
   "source": [
    "# Fill in hand coded data \n",
    "df_classified = pd.merge(df_gpt_classified, df_hand_result, on='mblogid', how='left')\n",
    "df_classified.info()"
   ]
  },
  {
   "cell_type": "code",
   "execution_count": null,
   "id": "a4822ed8-5de7-4c46-a625-b2bb28bdbfbb",
   "metadata": {},
   "outputs": [],
   "source": [
    "# Update missing values for \"relevance\" with \"relevance_y\"\n",
    "df_classified['dispute_area'].fillna(df_classified['dispute_area_y'], inplace=True)\n",
    "df_classified = df_classified.drop('dispute_area_y', axis=1)\n",
    "df_classified.info()"
   ]
  },
  {
   "cell_type": "code",
   "execution_count": null,
   "id": "5f1e3906-0802-401b-bbb8-d54ce5f26b83",
   "metadata": {},
   "outputs": [],
   "source": [
    "df_classified.to_pickle('../all_tweets_cleaned_classified_1st_layer.pkl')"
   ]
  },
  {
   "cell_type": "code",
   "execution_count": null,
   "id": "366cc01c-e3cb-429c-a798-0516ee4f0d3b",
   "metadata": {},
   "outputs": [],
   "source": [
    "df_classified['dispute_area'].value_counts().index"
   ]
  },
  {
   "cell_type": "code",
   "execution_count": null,
   "id": "831f0c0b-6508-4b12-a470-c285dc185828",
   "metadata": {},
   "outputs": [],
   "source": [
    "df_classified['dispute_area'].replace('3', 3.0, inplace=True)\n",
    "df_classified['dispute_area'].value_counts().sort_index(ascending=True)"
   ]
  },
  {
   "cell_type": "code",
   "execution_count": null,
   "id": "2a693b62-47cc-4916-97ee-73966a7858b9",
   "metadata": {},
   "outputs": [],
   "source": [
    "pd.set_option('display.max_rows', None)\n",
    "pd.set_option('display.max_colwidth', None)\n",
    "print(df_classified[df_classified['dispute_area'] == 1]['content_clean'])"
   ]
  },
  {
   "cell_type": "markdown",
   "id": "6f0e5a5e-8656-457b-ab18-b0bf06a87753",
   "metadata": {},
   "source": [
    "# 2nd layer of classification"
   ]
  },
  {
   "cell_type": "code",
   "execution_count": null,
   "id": "0293a033-eea8-4836-a574-691fb0a6f3bd",
   "metadata": {},
   "outputs": [],
   "source": [
    "df_class1 = df_classified[df_classified['dispute_area'] == 1]"
   ]
  },
  {
   "cell_type": "code",
   "execution_count": null,
   "id": "bc9a718d-f2ee-40f6-ab49-63f64e203f7b",
   "metadata": {},
   "outputs": [],
   "source": [
    "df_class1.to_excel('../all_tweets_class1.xlsx')"
   ]
  },
  {
   "cell_type": "code",
   "execution_count": null,
   "id": "8d04b65b-3317-42cd-aa5f-a9918e238cc8",
   "metadata": {},
   "outputs": [],
   "source": [
    "hand_coded_id_2 = \"\"\"\n",
    "xn31RAtLB\n",
    "GEwLyFq2R\n",
    "GEtA5imLb\n",
    "Ewj5tiyUx\n",
    "JAvEEyqX2\n",
    "GyzIV0kgR\n",
    "Ob1wQ6BVJ\n",
    "LxvHH3Qwe\n",
    "EaoMKn21r\n",
    "KwUtTjffK\n",
    "HB9lwy4Ch\n",
    "FcGGtc0pe\n",
    "Ibsw98vhs\n",
    "zD55Doll1\"\"\"\n",
    "id_list_2 = [line.strip() for line in hand_coded_id_2.strip().split('\\n')]\n",
    "\n",
    "# Output the result\n",
    "print(id_list_2)"
   ]
  },
  {
   "cell_type": "code",
   "execution_count": null,
   "id": "f32fba29-2c55-4697-ada5-b4a222de4a99",
   "metadata": {},
   "outputs": [],
   "source": [
    "issues_hand = \"\"\"1\n",
    "1\n",
    "1\n",
    "1\n",
    "2\n",
    "3\n",
    "1\n",
    "1\n",
    "2\n",
    "2\n",
    "1\n",
    "4\n",
    "2\n",
    "1\"\"\"\n",
    "\n",
    "issues_list = [line.strip() for line in issues_hand.strip().split('\\n')]\n",
    "issues_list = [int(x) for x in issues_list]\n",
    "\n",
    "# Output the result\n",
    "print(issues_list)"
   ]
  },
  {
   "cell_type": "code",
   "execution_count": null,
   "id": "5408ba41-bff2-47b1-802d-284388181abe",
   "metadata": {},
   "outputs": [],
   "source": [
    "perpetrator_hand = \"\"\"4\n",
    "-1\n",
    "2\n",
    "1\n",
    "3\n",
    "2\n",
    "1\n",
    "2\n",
    "3\n",
    "2\n",
    "4\n",
    "5\n",
    "2\n",
    "1\"\"\"\n",
    "\n",
    "perp_list = [line.strip() for line in perpetrator_hand.strip().split('\\n')]\n",
    "perp_list = [int(x) for x in perp_list]\n",
    "\n",
    "# Output the result\n",
    "print(perp_list)"
   ]
  },
  {
   "cell_type": "code",
   "execution_count": null,
   "id": "0d787c8a-50eb-4232-a9f8-864e9745eda4",
   "metadata": {},
   "outputs": [],
   "source": [
    "coded_data_2 = df_class1['mblogid'].isin(id_list_2)\n",
    "df_class1[~coded_data_2].to_pickle('../for_gpt_class1.pkl')\n",
    "df_class1[~coded_data_2].info()"
   ]
  },
  {
   "cell_type": "code",
   "execution_count": null,
   "id": "48d75e16-b31c-4263-b3b1-63e34da3b4e9",
   "metadata": {},
   "outputs": [],
   "source": [
    "import json\n",
    "from pathlib import Path\n",
    "fpath = Path('class_1_issues.json')\n",
    "result = json.loads(fpath.read_text())\n",
    "\n",
    "gpt_class1 = pd.DataFrame.from_dict(result, orient='index', columns=['reason','specific_issue', 'perpetrator'])\n",
    "gpt_class1.reset_index(inplace=True)\n",
    "gpt_class1.rename(columns={'index': 'mblogid'}, inplace=True)\n",
    "\n",
    "# Merge df and gpt_df by tweet id\n",
    "df_gpt_class_1 = pd.merge(df_class1, gpt_class1, how='left', on='mblogid')\n",
    "\n",
    "# Fill in hand coded data\n",
    "# Create a dataframe \n",
    "df_hand_class1 = pd.DataFrame({\n",
    "    'mblogid': id_list_2,\n",
    "    'specific_issue_y': issues_list,\n",
    "    'perpetrator_y': perp_list\n",
    "})\n",
    "\n",
    "df_gpt_class_1 = pd.merge(df_gpt_class_1, df_hand_class1, on='mblogid', how='left')\n",
    "\n",
    "# Update missing values for \"relevance\" with \"relevance_y\"\n",
    "df_gpt_class_1['specific_issue'].fillna(df_gpt_class_1['specific_issue_y'], inplace=True)\n",
    "df_gpt_class_1 = df_gpt_class_1.drop('specific_issue_y', axis=1)\n",
    "\n",
    "df_gpt_class_1['perpetrator'].fillna(df_gpt_class_1['perpetrator_y'], inplace=True)\n",
    "df_gpt_class_1 = df_gpt_class_1.drop('perpetrator_y', axis=1)\n",
    "\n",
    "df_gpt_class_1.info()"
   ]
  },
  {
   "cell_type": "code",
   "execution_count": null,
   "id": "d03ca97d-6c73-4fcd-b6b8-e0c7ee572416",
   "metadata": {},
   "outputs": [],
   "source": [
    "df_gpt_class_1['specific_issue'].value_counts()"
   ]
  },
  {
   "cell_type": "code",
   "execution_count": null,
   "id": "69cd5f49-1993-46a9-96fb-d54f0bbcd0de",
   "metadata": {},
   "outputs": [],
   "source": [
    "df_class2 = df_classified[df_classified['dispute_area'] == 2]\n",
    "df_class2.to_excel('../all_tweets_class2.xlsx')\n",
    "df_class2.to_pickle('../all_tweets_class2.pkl')"
   ]
  },
  {
   "cell_type": "code",
   "execution_count": null,
   "id": "e32a3d1c-70c0-4442-b1f9-a02bccc565ce",
   "metadata": {},
   "outputs": [],
   "source": [
    "import json\n",
    "from pathlib import Path\n",
    "fpath = Path('class_2_issues.json')\n",
    "result = json.loads(fpath.read_text())\n",
    "\n",
    "gpt_class2 = pd.DataFrame.from_dict(result, orient='index', columns=['reason','specific_issue', 'perpetrator'])\n",
    "gpt_class2.reset_index(inplace=True)\n",
    "gpt_class2.rename(columns={'index': 'mblogid'}, inplace=True)\n",
    "\n",
    "# Merge df and gpt_df by tweet id\n",
    "df_gpt_class_2 = pd.merge(df_class2, gpt_class2, how='left', on='mblogid')\n",
    "\n",
    "df_gpt_class_2.info()"
   ]
  },
  {
   "cell_type": "code",
   "execution_count": null,
   "id": "11708d9f-2451-40c6-a054-3cd4a87e4c74",
   "metadata": {},
   "outputs": [],
   "source": [
    "df_gpt_class_2['specific_issue'].value_counts()"
   ]
  },
  {
   "cell_type": "code",
   "execution_count": null,
   "id": "29c8e588-0ba4-49ae-bf3f-e3b6e4b54d47",
   "metadata": {},
   "outputs": [],
   "source": [
    "df_gpt_class_2['perpetrator'].value_counts()"
   ]
  },
  {
   "cell_type": "code",
   "execution_count": null,
   "id": "e16317d9-968f-453a-9dfa-e56971b8b4d3",
   "metadata": {},
   "outputs": [],
   "source": [
    "df_class3 = df_classified[df_classified['dispute_area'] == 3]\n",
    "df_class3.info()"
   ]
  },
  {
   "cell_type": "code",
   "execution_count": null,
   "id": "ac53855c-8a1b-42e4-90f6-a44b903e961f",
   "metadata": {},
   "outputs": [],
   "source": [
    "pd.set_option('display.max_rows', None)\n",
    "pd.set_option('display.max_colwidth', None)\n",
    "df_class3['content_clean']"
   ]
  },
  {
   "cell_type": "code",
   "execution_count": null,
   "id": "9ec5941f-405a-4562-9280-12fa9c127e43",
   "metadata": {},
   "outputs": [],
   "source": [
    "df_class4 = df_classified[df_classified['dispute_area'] == 4]\n",
    "df_class4.info()"
   ]
  },
  {
   "cell_type": "code",
   "execution_count": null,
   "id": "4d1fce38-ec1b-4260-95e4-f5ec98e68f22",
   "metadata": {},
   "outputs": [],
   "source": [
    "df_class4.to_excel('../all_tweets_class4.xlsx')\n",
    "df_class4.to_pickle('../all_tweets_class4.pkl')"
   ]
  },
  {
   "cell_type": "code",
   "execution_count": null,
   "id": "56f8e268-fc3a-4726-a6f5-20de6e67b037",
   "metadata": {},
   "outputs": [],
   "source": [
    "import json\n",
    "from pathlib import Path\n",
    "fpath = Path('class_4_issues.json')\n",
    "result = json.loads(fpath.read_text())\n",
    "\n",
    "gpt_class4 = pd.DataFrame.from_dict(result, orient='index', columns=['reason','specific_issue', 'perpetrator'])\n",
    "gpt_class4.reset_index(inplace=True)\n",
    "gpt_class4.rename(columns={'index': 'mblogid'}, inplace=True)\n",
    "\n",
    "# Merge df and gpt_df by tweet id\n",
    "df_gpt_class_4 = pd.merge(df_class4, gpt_class4, how='left', on='mblogid')\n",
    "\n",
    "df_gpt_class_4.info()"
   ]
  },
  {
   "cell_type": "code",
   "execution_count": null,
   "id": "7516df2f-d606-42e5-ae5d-afda3645597f",
   "metadata": {},
   "outputs": [],
   "source": [
    "print(df_gpt_class_4['specific_issue'].value_counts())\n",
    "print(df_gpt_class_4['perpetrator'].value_counts())"
   ]
  },
  {
   "cell_type": "code",
   "execution_count": null,
   "id": "98009276-98c1-497b-9d63-7c0d95f182ba",
   "metadata": {
    "scrolled": true
   },
   "outputs": [],
   "source": [
    "df_class5 = df_classified[df_classified['dispute_area'] == 5]\n",
    "df_class5.info()"
   ]
  },
  {
   "cell_type": "code",
   "execution_count": null,
   "id": "e44b36ad-061e-4ed5-bc50-c64e89bf28c6",
   "metadata": {},
   "outputs": [],
   "source": [
    "pd.set_option('display.max_rows', None)\n",
    "pd.set_option('display.max_colwidth', None)\n",
    "df_class5['content_clean']"
   ]
  },
  {
   "cell_type": "code",
   "execution_count": null,
   "id": "3af0c770-9baf-433b-9a99-46815a2eacf4",
   "metadata": {},
   "outputs": [],
   "source": [
    "df_class6 = df_classified[df_classified['dispute_area'] == 6]\n",
    "df_class6.info()"
   ]
  },
  {
   "cell_type": "code",
   "execution_count": null,
   "id": "e6293a91-3f7e-4867-bdee-474e3a00e9e4",
   "metadata": {},
   "outputs": [],
   "source": [
    "pd.set_option('display.max_rows', None)\n",
    "pd.set_option('display.max_colwidth', None)\n",
    "df_class6['content_clean']"
   ]
  },
  {
   "cell_type": "code",
   "execution_count": null,
   "id": "7f5faa3a-a66d-48fc-b58c-2cfb0f6a1645",
   "metadata": {},
   "outputs": [],
   "source": [
    "df_clean_final = pd.read_pickle('../all_tweets_cleaned_final.pkl')"
   ]
  },
  {
   "cell_type": "code",
   "execution_count": null,
   "id": "adba9658-9ce3-45b0-b7f0-f195798f463a",
   "metadata": {},
   "outputs": [],
   "source": [
    "df_clean_final.info()"
   ]
  },
  {
   "cell_type": "code",
   "execution_count": null,
   "id": "04eabfd9-abbd-4c81-b929-256cf750d02b",
   "metadata": {},
   "outputs": [],
   "source": [
    "df_classified.info()"
   ]
  },
  {
   "cell_type": "code",
   "execution_count": null,
   "id": "bc0c6649-6b23-451e-bcc3-f365c7e09abc",
   "metadata": {
    "scrolled": true
   },
   "outputs": [],
   "source": [
    "# Map the 'x' column from DataFrame B onto DataFrame A based on 'id'\n",
    "df_clean_final['dispute_area'] = df_clean_final['mblogid'].map(df_classified.set_index('mblogid')['dispute_area'])\n",
    "\n",
    "df_clean_final.info()"
   ]
  },
  {
   "cell_type": "code",
   "execution_count": null,
   "id": "fa684f5a-cdfd-4f57-819d-8b2e0dd48afd",
   "metadata": {},
   "outputs": [],
   "source": [
    "df_clean_final.to_pickle('../all_tweets_cleaned_final.pkl')"
   ]
  },
  {
   "cell_type": "markdown",
   "id": "f369147c-4d0d-4072-a53c-5a18eb2ddfb3",
   "metadata": {},
   "source": [
    "# Combine all GPT results together"
   ]
  },
  {
   "cell_type": "code",
   "execution_count": null,
   "id": "cacdf367-f3ed-434c-9e8d-cfa4e7137578",
   "metadata": {},
   "outputs": [],
   "source": [
    "import json\n",
    "from pathlib import Path\n",
    "fpath = Path('region&violencetypes.json')\n",
    "result = json.loads(fpath.read_text())\n",
    "\n",
    "region_type = pd.DataFrame.from_dict(result, orient='index', columns=['reason','region', 'types_of_violence'])\n",
    "region_type.reset_index(inplace=True)\n",
    "region_type.rename(columns={'index': 'mblogid'}, inplace=True)\n",
    "\n",
    "# Merge df and gpt_df by tweet id\n",
    "df_clean_final = pd.merge(df_clean_final, region_type, how='left', on='mblogid')\n",
    "\n",
    "df_clean_final.info()"
   ]
  },
  {
   "cell_type": "code",
   "execution_count": null,
   "id": "2c79f90a-fe74-4d5f-a893-ebd403a1e108",
   "metadata": {},
   "outputs": [],
   "source": [
    "# concatenate class1, 2, 4\n",
    "df_gpt_class_all = pd.concat([df_gpt_class_1, df_gpt_class_2, df_gpt_class_4], ignore_index=True)\n",
    "df_gpt_class_all.info()"
   ]
  },
  {
   "cell_type": "code",
   "execution_count": null,
   "id": "2d04bd87-3ab1-4e83-b861-d5ba26d81612",
   "metadata": {},
   "outputs": [],
   "source": [
    "# map class1 onto df_clean_final\n",
    "df_clean_final['specific_issue'] = df_clean_final['mblogid'].map(df_gpt_class_all.set_index('mblogid')['specific_issue'])\n",
    "df_clean_final['perpetrator'] = df_clean_final['mblogid'].map(df_gpt_class_all.set_index('mblogid')['perpetrator'])"
   ]
  },
  {
   "cell_type": "code",
   "execution_count": null,
   "id": "b7eae399-e6a8-45a0-a2a1-a281a7bc855b",
   "metadata": {},
   "outputs": [],
   "source": [
    "df_clean_final.info()"
   ]
  },
  {
   "cell_type": "code",
   "execution_count": null,
   "id": "baaa757b-c072-4e34-9b98-fe586adb83b7",
   "metadata": {},
   "outputs": [],
   "source": [
    "df_clean_final['dispute_area'].value_counts()"
   ]
  },
  {
   "cell_type": "code",
   "execution_count": null,
   "id": "13abb2d7-55a9-4d52-b516-6cf361c5e4f3",
   "metadata": {},
   "outputs": [],
   "source": [
    "df_clean_final.to_pickle('../data_for_analysis.pkl')"
   ]
  },
  {
   "cell_type": "code",
   "execution_count": null,
   "id": "40e9d054-5a31-490c-b4f5-a8d5fddcdb38",
   "metadata": {},
   "outputs": [],
   "source": [
    "import pandas as pd\n",
    "df = pd.read_pickle('../data_for_analysis.pkl')"
   ]
  },
  {
   "cell_type": "code",
   "execution_count": null,
   "id": "b6d3c55c-dbd2-4b05-9a7f-f13e5e3312df",
   "metadata": {},
   "outputs": [],
   "source": [
    "df.info()"
   ]
  },
  {
   "cell_type": "code",
   "execution_count": null,
   "id": "e018e777-76d5-428b-960e-7bab2f8179bf",
   "metadata": {},
   "outputs": [],
   "source": [
    "import json\n",
    "from pathlib import Path\n",
    "fpath = Path('province.json')\n",
    "result = json.loads(fpath.read_text())\n",
    "\n",
    "province = pd.DataFrame.from_dict(result, orient='index', columns=['province'])\n",
    "province.reset_index(inplace=True)\n",
    "province.rename(columns={'index': 'mblogid'}, inplace=True)\n",
    "\n",
    "# Merge df and gpt_df by tweet id\n",
    "df = pd.merge(df, province, how='left', on='mblogid')\n",
    "\n",
    "df.info()"
   ]
  },
  {
   "cell_type": "code",
   "execution_count": null,
   "id": "73ea0c3b-b341-4427-be3d-f548373e3d46",
   "metadata": {},
   "outputs": [],
   "source": [
    "df['province'].value_counts().index"
   ]
  },
  {
   "cell_type": "code",
   "execution_count": null,
   "id": "a5f79cfd-e3ce-44c9-b009-bf54f19f11e0",
   "metadata": {},
   "outputs": [],
   "source": [
    "# Mapping dictionary\n",
    "mapping_dict = {\n",
    "    '-1': 'NA',\n",
    "    '上海': '上海', '上海市': '上海',\n",
    "    '云南': '云南', '云南省': '云南',\n",
    "    '内蒙古': '内蒙古', '内蒙古自治区': '内蒙古',\n",
    "    '北京': '北京', '北京市': '北京',\n",
    "    '吉林省': '吉林',\n",
    "    '四川': '四川', '四川省': '四川',\n",
    "    '天津': '天津', '天津市': '天津',\n",
    "    '宁夏': '宁夏',\n",
    "    '安徽': '安徽', '安徽省': '安徽',\n",
    "    '山东': '山东', '山东省': '山东',\n",
    "    '山西': '山西', '山西省': '山西',\n",
    "    '广东': '广东', '广东省': '广东',\n",
    "    '广西': '广西', '广西省': '广西',\n",
    "    '江苏': '江苏', '江苏省': '江苏',\n",
    "    '江西': '江西', '江西省': '江西',\n",
    "    '河北': '河北', '河北省': '河北',\n",
    "    '河南': '河南', '河南省': '河南',\n",
    "    '浙江': '浙江', '浙江省': '浙江',\n",
    "    '海南省': '海南',\n",
    "    '湖北': '湖北', '湖北省': '湖北',\n",
    "    '湖南': '湖南', '湖南省': '湖南',\n",
    "    '甘肃': '甘肃', '甘肃省': '甘肃',\n",
    "    '福建': '福建', '福建省': '福建',\n",
    "    '贵州': '贵州', '贵州省': '贵州',\n",
    "    '辽宁': '辽宁', '辽宁省': '辽宁',\n",
    "    '重庆': '重庆', '重庆市': '重庆',\n",
    "    '陕西': '陕西', '陕西省': '陕西',\n",
    "    '青海': '青海', '青海省': '青海',\n",
    "    '黑龙江': '黑龙江', '黑龙江省': '黑龙江'\n",
    "}\n",
    "\n",
    "# Apply mapping\n",
    "df['province'] = df['province'].map(mapping_dict)\n",
    "\n",
    "# Check results\n",
    "print(df['province'].value_counts().sort_index(ascending=True))\n"
   ]
  },
  {
   "cell_type": "code",
   "execution_count": null,
   "id": "3f6c51b4-ae5a-43b9-a56a-d83fe9b8a65b",
   "metadata": {},
   "outputs": [],
   "source": [
    "df.to_pickle('../data_for_analysis.pkl')"
   ]
  },
  {
   "cell_type": "code",
   "execution_count": null,
   "id": "f816a387-ed13-45ab-bd44-8d598456a0c7",
   "metadata": {},
   "outputs": [],
   "source": []
  }
 ],
 "metadata": {
  "kernelspec": {
   "display_name": "Python 3 (ipykernel)",
   "language": "python",
   "name": "python3"
  },
  "language_info": {
   "codemirror_mode": {
    "name": "ipython",
    "version": 3
   },
   "file_extension": ".py",
   "mimetype": "text/x-python",
   "name": "python",
   "nbconvert_exporter": "python",
   "pygments_lexer": "ipython3",
   "version": "3.12.1"
  }
 },
 "nbformat": 4,
 "nbformat_minor": 5
}
