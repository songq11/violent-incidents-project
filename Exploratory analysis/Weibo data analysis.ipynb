{
 "cells": [
  {
   "cell_type": "code",
   "execution_count": null,
   "id": "7c912bbd-d454-4f9f-9ea5-901c72c2ff80",
   "metadata": {},
   "outputs": [],
   "source": [
    "import pandas as pd\n",
    "import numpy as np\n",
    "import matplotlib.pyplot as plt\n",
    "%matplotlib inline\n",
    "import seaborn as sns"
   ]
  },
  {
   "cell_type": "code",
   "execution_count": null,
   "id": "c6272f6d-1919-474c-ba24-f2e4fd03af4e",
   "metadata": {},
   "outputs": [],
   "source": [
    "df = pd.read_pickle('../data_for_analysis.pkl')"
   ]
  },
  {
   "cell_type": "code",
   "execution_count": null,
   "id": "ced75743-56f9-417e-8537-261d07870ee1",
   "metadata": {
    "scrolled": true
   },
   "outputs": [],
   "source": [
    "df.info()"
   ]
  },
  {
   "cell_type": "markdown",
   "id": "abd2cc32-4e89-46b9-8525-a66097e8cae6",
   "metadata": {},
   "source": [
    "# Classification analysis"
   ]
  },
  {
   "cell_type": "code",
   "execution_count": null,
   "id": "e1e71bb1-9fb7-43b5-bcfe-62f10da86b05",
   "metadata": {},
   "outputs": [],
   "source": [
    "vc = df['dispute_area'].value_counts()\n",
    "vc.index"
   ]
  },
  {
   "cell_type": "code",
   "execution_count": null,
   "id": "1e202cdd-00be-4c0f-8189-e22aeac0db19",
   "metadata": {
    "scrolled": true
   },
   "outputs": [],
   "source": [
    "df['dispute_area'].replace(99.0, -1.0, inplace=True)\n",
    "vc = df['dispute_area'].value_counts().sort_index(ascending=True)\n",
    "\n",
    "# Calculate percentages\n",
    "total_count = len(df)\n",
    "percentages = (vc / total_count) * 100\n",
    "\n",
    "# Print value counts and percentages\n",
    "print(\"Value Counts:\\n\", vc)\n",
    "print(\"\\nPercentages:\\n\", percentages)"
   ]
  },
  {
   "cell_type": "code",
   "execution_count": null,
   "id": "25a16faa-f469-4d62-a931-dbd012e3776b",
   "metadata": {},
   "outputs": [],
   "source": [
    "class1 = df[df['dispute_area'] == 1]\n",
    "class1.info()"
   ]
  },
  {
   "cell_type": "code",
   "execution_count": null,
   "id": "7bf59092-9df0-4df1-8d2e-1edb80d29cb9",
   "metadata": {},
   "outputs": [],
   "source": [
    "vc1 = class1['specific_issue'].value_counts()\n",
    "\n",
    "# Calculate percentages\n",
    "total_count = len(class1)\n",
    "percentages = (vc1 / total_count) * 100\n",
    "\n",
    "# Print value counts and percentages\n",
    "print(\"Value Counts:\\n\", vc1)\n",
    "print(\"\\nPercentages:\\n\", percentages)"
   ]
  },
  {
   "cell_type": "code",
   "execution_count": null,
   "id": "54feba3b-5c95-4d1a-b2aa-96dda0079b0b",
   "metadata": {},
   "outputs": [],
   "source": [
    "vc1_p = class1['perpetrator'].value_counts().sort_index(ascending=True)\n",
    "\n",
    "# Calculate percentages\n",
    "total_count = len(class1)\n",
    "percentages = (vc1_p / total_count) * 100\n",
    "\n",
    "# Print value counts and percentages\n",
    "print(\"Value Counts:\\n\", vc1_p)\n",
    "print(\"\\nPercentages:\\n\", percentages)"
   ]
  },
  {
   "cell_type": "code",
   "execution_count": null,
   "id": "06e8c875-3c50-4614-a3cf-b38ca58f89bc",
   "metadata": {},
   "outputs": [],
   "source": [
    "class1[class1['specific_issue']==1]['perpetrator'].value_counts().sort_index(ascending=True)"
   ]
  },
  {
   "cell_type": "code",
   "execution_count": null,
   "id": "d0ab0b3a-88d9-4a79-b70c-f100e97a5d2b",
   "metadata": {},
   "outputs": [],
   "source": [
    "class1[class1['specific_issue']==2]['perpetrator'].value_counts().sort_index(ascending=True)"
   ]
  },
  {
   "cell_type": "code",
   "execution_count": null,
   "id": "ae6cf43a-42ec-4c64-9f77-b581bc155e15",
   "metadata": {},
   "outputs": [],
   "source": [
    "class1[class1['specific_issue']==3]['perpetrator'].value_counts().sort_index(ascending=True)"
   ]
  },
  {
   "cell_type": "code",
   "execution_count": null,
   "id": "f8a881b6-3840-49f2-bcb4-b08363ca383e",
   "metadata": {},
   "outputs": [],
   "source": [
    "class2 = df[df['dispute_area'] == 2]\n",
    "\n",
    "vc2 = class2['specific_issue'].value_counts().sort_index(ascending=True)\n",
    "\n",
    "# Calculate percentages\n",
    "total_count = len(class2)\n",
    "percentages = (vc2 / total_count) * 100\n",
    "\n",
    "# Print value counts and percentages\n",
    "print(\"Value Counts:\\n\", vc2)\n",
    "print(\"\\nPercentages:\\n\", percentages)\n",
    "\n",
    "vc2_p = class2['perpetrator'].value_counts().sort_index(ascending=True)\n",
    "\n",
    "# Calculate percentages\n",
    "total_count = len(class2)\n",
    "percentages = (vc2_p / total_count) * 100\n",
    "\n",
    "# Print value counts and percentages\n",
    "print(\"Value Counts:\\n\", vc2_p)\n",
    "print(\"\\nPercentages:\\n\", percentages)\n",
    "\n",
    "print(class2[class2['specific_issue']==1]['perpetrator'].value_counts().sort_index(ascending=True))\n",
    "print(class2[class2['specific_issue']==2]['perpetrator'].value_counts().sort_index(ascending=True))\n",
    "print(class2[class2['specific_issue']==3]['perpetrator'].value_counts().sort_index(ascending=True))"
   ]
  },
  {
   "cell_type": "code",
   "execution_count": null,
   "id": "d2741907-1f6b-4eef-8292-4def59ea9a73",
   "metadata": {},
   "outputs": [],
   "source": [
    "class3 = df[df['dispute_area'] == 3]\n",
    "class3.info()"
   ]
  },
  {
   "cell_type": "code",
   "execution_count": null,
   "id": "5456000f-7192-40cc-9038-8a82ccf0b158",
   "metadata": {
    "scrolled": true
   },
   "outputs": [],
   "source": [
    "class3['content_clean']"
   ]
  },
  {
   "cell_type": "code",
   "execution_count": null,
   "id": "ead70b3b-56a0-4467-8ad2-69f9cb6d1eac",
   "metadata": {},
   "outputs": [],
   "source": [
    "class4 = df[df['dispute_area'] == 4]\n",
    "\n",
    "vc4 = class4['specific_issue'].value_counts().sort_index(ascending=True)\n",
    "\n",
    "# Calculate percentages\n",
    "total_count = len(class4)\n",
    "percentages = (vc4 / total_count) * 100\n",
    "\n",
    "# Print value counts and percentages\n",
    "print(\"Value Counts:\\n\", vc4)\n",
    "print(\"\\nPercentages:\\n\", percentages)\n",
    "\n",
    "vc4_p = class4['perpetrator'].value_counts().sort_index(ascending=True)\n",
    "\n",
    "# Calculate percentages\n",
    "total_count = len(class4)\n",
    "percentages = (vc4_p / total_count) * 100\n",
    "\n",
    "# Print value counts and percentages\n",
    "print(\"Value Counts:\\n\", vc4_p)\n",
    "print(\"\\nPercentages:\\n\", percentages)\n",
    "\n",
    "print(class4[class4['specific_issue']==1]['perpetrator'].value_counts().sort_index(ascending=True))\n",
    "print(class4[class4['specific_issue']==2]['perpetrator'].value_counts().sort_index(ascending=True))\n",
    "print(class4[class4['specific_issue']==3]['perpetrator'].value_counts().sort_index(ascending=True))\n",
    "print(class4[class4['specific_issue']==4]['perpetrator'].value_counts().sort_index(ascending=True))"
   ]
  },
  {
   "cell_type": "code",
   "execution_count": null,
   "id": "2503a189-5de2-4228-bcc5-4af6deaf5084",
   "metadata": {},
   "outputs": [],
   "source": [
    "class5 = df[df['dispute_area'] == 5]\n",
    "class5.info()"
   ]
  },
  {
   "cell_type": "code",
   "execution_count": null,
   "id": "de11d07b-0bc1-41a5-b895-51f0b5856471",
   "metadata": {},
   "outputs": [],
   "source": [
    "class5['content_clean']"
   ]
  },
  {
   "cell_type": "code",
   "execution_count": null,
   "id": "dc257bd4-d2e1-41c2-bdb3-a378a7f1ad31",
   "metadata": {},
   "outputs": [],
   "source": [
    "class6 = df[df['dispute_area'] == 6]\n",
    "class6.info()"
   ]
  },
  {
   "cell_type": "code",
   "execution_count": null,
   "id": "3f9335aa-c46f-4f49-8193-d9e83c7f82a9",
   "metadata": {},
   "outputs": [],
   "source": [
    "## cleaning up categories with less than 5 casses\n",
    "pd.set_option('display.max_rows', None)\n",
    "pd.set_option('display.max_colwidth', None)\n",
    "class1[class1['specific_issue'] > 0][class1['perpetrator'] == 5][['mblogid', 'content_clean', 'perpetrator']]"
   ]
  },
  {
   "cell_type": "code",
   "execution_count": null,
   "id": "7d16aa7f-6141-4ba4-a5dd-d8c5749745cf",
   "metadata": {},
   "outputs": [],
   "source": [
    "# Update the value in 'column_name' where 'id' is XXXX\n",
    "df.loc[df['mblogid'] == 'NkDNBCtgP', 'perpetrator'] = 1\n",
    "df.loc[df['mblogid'] == 'M4LJ7jEqY', 'perpetrator'] = 3\n",
    "df.loc[df['mblogid'] == 'LDBfRmdaO', 'perpetrator'] = 3\n",
    "\n",
    "df.loc[df['mblogid'] == 'GqH8aAZGR', 'specific_issue'] = 1\n",
    "df.loc[df['mblogid'] == 'GtnfU1R1s', 'specific_issue'] = 1\n",
    "df.loc[df['mblogid'] == 'LyjEMkQMB', 'specific_issue'] = 1\n",
    "\n",
    "df.to_pickle('../data_for_analysis.pkl')"
   ]
  },
  {
   "cell_type": "code",
   "execution_count": null,
   "id": "f042d78b-34f6-4123-89b8-879bbfff4dd1",
   "metadata": {},
   "outputs": [],
   "source": [
    "# Regroup perpetrators into gov, corporate, individuals\n",
    "\n",
    "df.loc[(df['dispute_area'] == 1) & (df['perpetrator'] == 1), 'types_of_perpetrator'] = 1\n",
    "df.loc[(df['dispute_area'] == 2) & (df['perpetrator'] == 1), 'types_of_perpetrator'] = 1\n",
    "df.loc[df['dispute_area'].isin([4, 5]), 'types_of_perpetrator'] = 1\n",
    "\n",
    "df.loc[(df['dispute_area'] == 1) & (df['perpetrator'] > 1) & (df['perpetrator'] < 5), 'types_of_perpetrator'] = 2\n",
    "df.loc[(df['dispute_area'] == 2) & (df['perpetrator'] > 1) & (df['perpetrator'] < 5), 'types_of_perpetrator'] = 2\n",
    "df.loc[df['dispute_area'] == 3, 'types_of_perpetrator'] = 2\n",
    "\n",
    "df.loc[(df['dispute_area'] == 1) & (df['perpetrator'] == 5), 'types_of_perpetrator'] = 3\n",
    "df.loc[(df['dispute_area'] == 2) & (df['perpetrator'] == 5), 'types_of_perpetrator'] = 3\n",
    "df.loc[df['dispute_area'] == 6, 'types_of_perpetrator'] = 3"
   ]
  },
  {
   "cell_type": "code",
   "execution_count": null,
   "id": "69f8a900-131b-44f1-a105-91cc41fe4875",
   "metadata": {},
   "outputs": [],
   "source": [
    "df['types_of_perpetrator'].value_counts()"
   ]
  },
  {
   "cell_type": "code",
   "execution_count": null,
   "id": "23c9bcbe-710e-481d-9e54-05cbb6fa0cfc",
   "metadata": {},
   "outputs": [],
   "source": [
    "c1 = df[df['dispute_area'] == 1]\n",
    "c2 = df[df['dispute_area'] == 2]\n",
    "c3 = df[df['dispute_area'] == 3]\n",
    "c4 = df[df['dispute_area'] == 4]\n",
    "c5 = df[df['dispute_area'] == 5]\n",
    "c6 = df[df['dispute_area'] == 6]"
   ]
  },
  {
   "cell_type": "code",
   "execution_count": null,
   "id": "337ba6c2-5d15-43d0-a051-15e9f2f77d05",
   "metadata": {},
   "outputs": [],
   "source": [
    "# Calculate the number of \"government officials and local authorities\" \n",
    "num_gov = len(c1[c1['perpetrator']==1]) + len(c2[c2['perpetrator']==1]) + len(c4) + len(c5)\n",
    "num_corp = len(c1[(c1['perpetrator']>1) & (c1['perpetrator']<5)]) + \\\n",
    "            len(c2[(c2['perpetrator']>1) & (c2['perpetrator']<5)]) + \\\n",
    "                len(c3) \n",
    "num_indiv = len(c1[c1['perpetrator']==5]) + len(c2[c2['perpetrator']==5]) + len(c6)\n",
    "print(num_gov, num_gov/1020)\n",
    "print(num_corp, num_corp/1020)\n",
    "print(num_indiv, num_indiv/1020)\n"
   ]
  },
  {
   "cell_type": "code",
   "execution_count": null,
   "id": "de4a0a4b-7996-4218-b04d-b00660c3e39b",
   "metadata": {},
   "outputs": [],
   "source": [
    "# Region\n",
    "vc_r = df['region'].value_counts().sort_index(ascending=True)\n",
    "print(vc_r)\n",
    "print((vc_r*100)/1020)"
   ]
  },
  {
   "cell_type": "code",
   "execution_count": null,
   "id": "f6cc8409-8af7-46be-a9e7-4c0393065597",
   "metadata": {},
   "outputs": [],
   "source": [
    "# Create the cross-tabulation\n",
    "region_distribution = pd.crosstab(df['dispute_area'], df['region'], normalize='index') * 100\n",
    "\n",
    "# Round the percentages to two decimal places\n",
    "region_distribution = region_distribution.round(2)\n",
    "print(region_distribution)\n"
   ]
  },
  {
   "cell_type": "code",
   "execution_count": null,
   "id": "a6515ed5-584e-4839-9cb9-4245c82f40d7",
   "metadata": {},
   "outputs": [],
   "source": [
    "# Types of violence\n",
    "df['types_of_violence'].value_counts().index"
   ]
  },
  {
   "cell_type": "code",
   "execution_count": null,
   "id": "5fe72fbd-1833-4ca8-9287-78b45a6e9621",
   "metadata": {},
   "outputs": [],
   "source": [
    "def canonize(x):\n",
    "    if isinstance(x, str):\n",
    "        x = eval(x)\n",
    "    if isinstance(x, int):\n",
    "        x = [x]\n",
    "    assert isinstance(x, list)\n",
    "    return [int(i) for i in x]\n",
    "df['types_of_violence'] = df['types_of_violence'].map(canonize)"
   ]
  },
  {
   "cell_type": "code",
   "execution_count": null,
   "id": "e86eb94c-123a-4831-a920-c6b973674a24",
   "metadata": {},
   "outputs": [],
   "source": [
    "# Identify which elements are integers\n",
    "integers_in_column = [sublist for sublist in df['types_of_violence'] if isinstance(sublist, int)]\n",
    "\n",
    "# Output the integers found\n",
    "print(\"Integers found in the column:\", integers_in_column)"
   ]
  },
  {
   "cell_type": "code",
   "execution_count": null,
   "id": "e7f797b5-0086-4858-b518-e64dd36c7746",
   "metadata": {
    "scrolled": true
   },
   "outputs": [],
   "source": [
    "df['types_of_violence'].value_counts()"
   ]
  },
  {
   "cell_type": "code",
   "execution_count": null,
   "id": "8cefdb11-b6bd-4873-80bb-1e7fd8be472e",
   "metadata": {},
   "outputs": [],
   "source": [
    "test = df[df['types_of_violence'].apply(lambda x: -1 in x)]"
   ]
  },
  {
   "cell_type": "code",
   "execution_count": null,
   "id": "66776f94-4c9d-473b-b4b3-0cfc22af4fa0",
   "metadata": {},
   "outputs": [],
   "source": [
    "test[['content_clean', 'types_of_violence']]"
   ]
  },
  {
   "cell_type": "code",
   "execution_count": null,
   "id": "259a110c-9889-400a-abd2-b415c708c230",
   "metadata": {},
   "outputs": [],
   "source": [
    "def drop_na(list):\n",
    "    if len(list) >1:\n",
    "        if -1 in list:\n",
    "            list = [x for x in list if x != -1]\n",
    "    return list\n",
    "        \n",
    "df['types_of_violence'] = df['types_of_violence'].apply(drop_na)"
   ]
  },
  {
   "cell_type": "code",
   "execution_count": null,
   "id": "c36ec869-ae41-45dc-81fd-fb2704a3b500",
   "metadata": {},
   "outputs": [],
   "source": [
    "def fill_na(list):\n",
    "    if len(list) == 0:\n",
    "        list = [-1]\n",
    "    return list\n",
    "\n",
    "df['types_of_violence'] = df['types_of_violence'].apply(fill_na)"
   ]
  },
  {
   "cell_type": "code",
   "execution_count": null,
   "id": "1bcffaff-0355-48df-a00d-1a0457f99d02",
   "metadata": {},
   "outputs": [],
   "source": [
    "df['types_of_violence'].value_counts().index"
   ]
  },
  {
   "cell_type": "code",
   "execution_count": null,
   "id": "0005c318-ae67-4df2-b25a-5ddebb3a6674",
   "metadata": {},
   "outputs": [],
   "source": [
    "# Count numbers of different types of violence\n",
    "from collections import Counter \n",
    "\n",
    "# Flatten the lists in the column\n",
    "all_numbers = [number for sublist in df['types_of_violence'] for number in sublist]\n",
    "\n",
    "# Count the occurrences of each number\n",
    "number_counts = Counter(all_numbers)\n",
    "\n",
    "# Convert the result to a DataFrame (optional)\n",
    "count_df = pd.DataFrame(number_counts.items(), columns=['number', 'count'])\n",
    "\n",
    "count_df = count_df.sort_values(by='number', ascending=True)"
   ]
  },
  {
   "cell_type": "code",
   "execution_count": null,
   "id": "f5d72cab-496e-4abc-b558-c1b4b113a0e6",
   "metadata": {},
   "outputs": [],
   "source": [
    "print(count_df)\n",
    "print(count_df['count']/1020)"
   ]
  },
  {
   "cell_type": "code",
   "execution_count": null,
   "id": "0a24f838-5d57-4db1-8cb7-b32bc9901a8d",
   "metadata": {},
   "outputs": [],
   "source": [
    "# Set up the matplotlib figure\n",
    "plt.figure(figsize=(10, 6))\n",
    "\n",
    "# Create the countplot\n",
    "sns.barplot(x='number', y='count', data=count_df, palette='viridis')\n",
    "\n",
    "# Add labels and title\n",
    "plt.xlabel('Types of violence')\n",
    "plt.ylabel('Count')\n",
    "plt.title('Count Plot of Types of Violence')\n",
    "\n",
    "# Show the plot\n",
    "plt.show()"
   ]
  },
  {
   "cell_type": "code",
   "execution_count": null,
   "id": "5834b466-f4e4-4971-9f6c-a4f4701af448",
   "metadata": {
    "scrolled": true
   },
   "outputs": [],
   "source": [
    "# number of different types of violence in each incident\n",
    "df['number_of_violence'] = df['types_of_violence'].apply(lambda x:len(x))\n",
    "df[['number_of_violence', 'types_of_violence']]"
   ]
  },
  {
   "cell_type": "code",
   "execution_count": null,
   "id": "e2f491f7-1c30-4605-b0a1-9fb352c6fe1b",
   "metadata": {
    "scrolled": true
   },
   "outputs": [],
   "source": [
    "# most severe type of violence in each incident\n",
    "df['worst_violence_types'] = df['types_of_violence'].apply(lambda x:max(x))\n",
    "df[['worst_violence_types', 'types_of_violence']]"
   ]
  },
  {
   "cell_type": "code",
   "execution_count": null,
   "id": "dbdb24db-94a3-491f-a043-eb8410d8d894",
   "metadata": {},
   "outputs": [],
   "source": [
    "vc_wv = df['worst_violence_types'].value_counts().sort_index()"
   ]
  },
  {
   "cell_type": "code",
   "execution_count": null,
   "id": "8e06cd6a-da91-40a8-b4ab-33c470e68152",
   "metadata": {},
   "outputs": [],
   "source": [
    "vc_wv.plot.pie(\n",
    "    autopct='%1.1f%%',  # Display percentage on the pie chart\n",
    "    startangle=90,      # Rotate the chart\n",
    "    counterclock=False, # Draw the chart in a clockwise direction\n",
    "    colors=plt.cm.Paired.colors  # Choose a color palette\n",
    ")\n",
    "\n",
    "# Set the title and display the chart\n",
    "plt.title('Distribution of Worst Types of Violence')\n",
    "plt.ylabel('')  # Hide the y-label (which is unnecessary in a pie chart)\n",
    "plt.show()"
   ]
  },
  {
   "cell_type": "code",
   "execution_count": null,
   "id": "221032d9-fe83-4325-8583-dbc1476d89a2",
   "metadata": {},
   "outputs": [],
   "source": [
    "d_gov[d_gov['worst_violence_types'] > 0]['worst_violence_types'].describe()"
   ]
  },
  {
   "cell_type": "code",
   "execution_count": null,
   "id": "a571f1a9-cdc8-4eb8-96fb-3eb3606c06dc",
   "metadata": {},
   "outputs": [],
   "source": [
    "d_corp[d_corp['worst_violence_types'] > 0]['worst_violence_types'].describe()"
   ]
  },
  {
   "cell_type": "code",
   "execution_count": null,
   "id": "6da95f8a-09cf-470f-9604-68ab243e7350",
   "metadata": {},
   "outputs": [],
   "source": [
    "d_indi[d_indi['worst_violence_types'] > 0]['worst_violence_types'].describe()"
   ]
  },
  {
   "cell_type": "code",
   "execution_count": null,
   "id": "09f52c36-e2f2-4858-9df7-f47de8923ed3",
   "metadata": {},
   "outputs": [],
   "source": [
    "from scipy import stats\n",
    "\n",
    "# Sample data\n",
    "group1 = d_gov['worst_violence_types']\n",
    "group2 = d_corp['worst_violence_types']\n",
    "group3 = d_indi['worst_violence_types']\n",
    "\n",
    "# Perform the two-sample t-test\n",
    "t_stat, p_value = stats.ttest_ind(group1, group2, equal_var=False)  # Set equal_var=False if variances are not equal\n",
    "\n",
    "print(f\"T-statistic: {t_stat}\")\n",
    "print(f\"P-value: {p_value}\")\n",
    "\n",
    "# Perform the two-sample t-test\n",
    "t_stat2, p_value2 = stats.ttest_ind(group1, group3, equal_var=False)  # Set equal_var=False if variances are not equal\n",
    "\n",
    "print(f\"T-statistic: {t_stat2}\")\n",
    "print(f\"P-value: {p_value2}\")\n",
    "\n",
    "# Perform the two-sample t-test\n",
    "t_stat3, p_value3 = stats.ttest_ind(group2, group3, equal_var=False)  # Set equal_var=False if variances are not equal\n",
    "\n",
    "print(f\"T-statistic: {t_stat3}\")\n",
    "print(f\"P-value: {p_value3}\")"
   ]
  },
  {
   "cell_type": "code",
   "execution_count": null,
   "id": "6f4ecb4a-0075-4df0-a40d-114229f5e661",
   "metadata": {},
   "outputs": [],
   "source": [
    "for i in range(1, 7):\n",
    "    print(f\"Dispute Area: {i}\")\n",
    "    description = df[(df['worst_violence_types'] > 0) & (df['dispute_area'] == i)]['worst_violence_types'].describe()\n",
    "    print(description)\n",
    "    print()  # For spacing between outputs"
   ]
  },
  {
   "cell_type": "code",
   "execution_count": null,
   "id": "257b3992-5d5a-41fb-8813-9f8377afde1d",
   "metadata": {},
   "outputs": [],
   "source": [
    "violence_stats_by_province = df.groupby('province')['worst_violence_types'].agg(['mean', 'count'])\n",
    "violence_stats_by_province_sorted = violence_stats_by_province.sort_values(by='mean', ascending=False)\n",
    "\n",
    "print(violence_stats_by_province_sorted)"
   ]
  },
  {
   "cell_type": "code",
   "execution_count": null,
   "id": "28b88d79-5331-41df-9e34-202192336700",
   "metadata": {},
   "outputs": [],
   "source": [
    "# Time (created_at)\n",
    "df['created_at'] = pd.to_datetime(df['created_at'])\n",
    "# Group by day and count the number of tweets per day\n",
    "df['posted_time'] = df['created_at'].dt.to_period('Y')\n",
    "tweets_per_year = df['posted_time'].value_counts().sort_index()\n",
    "# Create the line plot\n",
    "plt.figure(figsize=(10,6))\n",
    "tweets_per_year.plot(kind='line')\n",
    "\n",
    "# Add titles and labels\n",
    "plt.title('Number of Tweets Over Time')\n",
    "plt.xlabel('Year')\n",
    "plt.ylabel('Number of Tweets')\n",
    "\n",
    "# Show the plot\n",
    "plt.show()"
   ]
  },
  {
   "cell_type": "code",
   "execution_count": null,
   "id": "08fe5bfa-0c9b-4574-9941-06df05601f9a",
   "metadata": {},
   "outputs": [],
   "source": [
    "# Class1\n",
    "c1['created_at'] = pd.to_datetime(c1['created_at'])\n",
    "# Group by day and count the number of tweets per day\n",
    "c1['posted_time'] = c1['created_at'].dt.to_period('Y')\n",
    "tweets_per_year = c1['posted_time'].value_counts().sort_index()\n",
    "# Create the line plot\n",
    "plt.figure(figsize=(10,6))\n",
    "tweets_per_year.plot(kind='line')\n",
    "\n",
    "# Add titles and labels\n",
    "plt.title('Number of Tweets Over Time - Land & Housing')\n",
    "plt.xlabel('Year')\n",
    "plt.ylabel('Number of Tweets')\n",
    "\n",
    "# Show the plot\n",
    "plt.show()"
   ]
  },
  {
   "cell_type": "code",
   "execution_count": null,
   "id": "f2a0827f-670f-4cd4-b71b-15e00ba229ef",
   "metadata": {},
   "outputs": [],
   "source": [
    "# Class2\n",
    "c2['created_at'] = pd.to_datetime(c2['created_at'])\n",
    "# Group by day and count the number of tweets per day\n",
    "c2['posted_time'] = c2['created_at'].dt.to_period('Y')\n",
    "tweets_per_year = c2['posted_time'].value_counts().sort_index()\n",
    "# Create the line plot\n",
    "plt.figure(figsize=(10,6))\n",
    "tweets_per_year.plot(kind='line')\n",
    "\n",
    "# Add titles and labels\n",
    "plt.title('Number of Tweets Over Time - Financial')\n",
    "plt.xlabel('Year')\n",
    "plt.ylabel('Number of Tweets')\n",
    "\n",
    "# Show the plot\n",
    "plt.show()"
   ]
  },
  {
   "cell_type": "code",
   "execution_count": null,
   "id": "8a507a63-4f84-4d58-964f-8f72ae4a616f",
   "metadata": {},
   "outputs": [],
   "source": [
    "# Class4\n",
    "c4['created_at'] = pd.to_datetime(c4['created_at'])\n",
    "# Group by day and count the number of tweets per day\n",
    "c4['posted_time'] = c4['created_at'].dt.to_period('Y')\n",
    "tweets_per_year = c4['posted_time'].value_counts().sort_index()\n",
    "# Create the line plot\n",
    "plt.figure(figsize=(10,6))\n",
    "tweets_per_year.plot(kind='line')\n",
    "\n",
    "# Add titles and labels\n",
    "plt.title('Number of Tweets Over Time - Political, policing, and legal')\n",
    "plt.xlabel('Year')\n",
    "plt.ylabel('Number of Tweets')\n",
    "\n",
    "# Show the plot\n",
    "plt.show()"
   ]
  },
  {
   "cell_type": "code",
   "execution_count": null,
   "id": "a1db642c-5522-477c-ba76-9598c82ac008",
   "metadata": {},
   "outputs": [],
   "source": [
    "# Class6\n",
    "c6['created_at'] = pd.to_datetime(c6['created_at'])\n",
    "# Group by day and count the number of tweets per day\n",
    "c6['posted_time'] = c6['created_at'].dt.to_period('Y')\n",
    "tweets_per_year = c6['posted_time'].value_counts().sort_index()\n",
    "# Create the line plot\n",
    "plt.figure(figsize=(10,6))\n",
    "tweets_per_year.plot(kind='line')\n",
    "\n",
    "# Add titles and labels\n",
    "plt.title('Number of Tweets Over Time - Personal conflicts')\n",
    "plt.xlabel('Year')\n",
    "plt.ylabel('Number of Tweets')\n",
    "\n",
    "# Show the plot\n",
    "plt.show()"
   ]
  },
  {
   "cell_type": "code",
   "execution_count": null,
   "id": "a86c8bd2-2788-43bb-a8ed-147eaac641cc",
   "metadata": {},
   "outputs": [],
   "source": [
    "df['dispute_area'].value_counts()"
   ]
  },
  {
   "cell_type": "code",
   "execution_count": null,
   "id": "4283c272-d9a6-4ba7-aad3-977d75fa03a7",
   "metadata": {},
   "outputs": [],
   "source": [
    "df['posted_time'].dtype"
   ]
  },
  {
   "cell_type": "code",
   "execution_count": null,
   "id": "18a2e83b-a7c4-4dfb-a4b1-5fc59ed7c0ab",
   "metadata": {},
   "outputs": [],
   "source": [
    "# Exclude rows when theme == -1\n",
    "df_good = df[df['dispute_area']>0]\n",
    "# df_2024_drop = df[df['year']<2024]\n",
    "# df_select = df[(df['new_theme']>0) & (df['year']<2024)]\n",
    "\n",
    "df['year'] = df['posted_time'].astype(str)\n",
    "\n",
    "# Pivot the data to get yearly counts for each theme\n",
    "pivot_df = df_good.pivot_table(index='year', columns='dispute_area', aggfunc='size', fill_value=0)\n",
    "\n",
    "# Ensure all categories are represented (in case some years miss some categories)\n",
    "all_categories = df_good['dispute_area'].unique()\n",
    "pivot_df = pivot_df.reindex(columns=all_categories, fill_value=0)\n",
    "pivot_df = pivot_df.sort_index(axis=1)\n",
    "\n",
    "# Now pivot_df has years as index and one column for each theme with counts as values\n",
    "\n",
    "# Creating the stackplot\n",
    "plt.figure(figsize=(10, 6))\n",
    "labels = [f'Theme {i}' for i in range(1,8)]\n",
    "colors = ['#E63946', '#F1FAEE', '#A8DADC', '#457B9D', '#1D3557', '#F4A261', '#2A9D8F']\n",
    "\n",
    "plt.stackplot(pivot_df.index, pivot_df.T, colors=colors, labels=labels)\n",
    "\n",
    "# Customize the plot\n",
    "area_legend = ['D1: Land/Housing', 'D2: Financial', 'D3: Employment', 'D4: Political, policing, legal', 'D5: Covid-19', 'D6: Personal', 'D7: Other']\n",
    "\n",
    "plt.title('Distribution of Dispute Areas Across Years')\n",
    "plt.xlabel('Year')\n",
    "plt.ylabel('Count')\n",
    "plt.legend(area_legend, loc='upper right')\n",
    "\n",
    "# plt.savefig('../Graphs/topic_year.png')\n",
    "plt.show()\n"
   ]
  },
  {
   "cell_type": "code",
   "execution_count": null,
   "id": "51600fe3-90f8-4979-81c9-b7d3f0952d00",
   "metadata": {},
   "outputs": [],
   "source": [
    "\n",
    "# Initialize the figure with a 3x3 grid of subplots\n",
    "fig, axes = plt.subplots(3, 3, figsize=(20, 10))\n",
    "axes = axes.flatten()\n",
    "\n",
    "# Create a line plot for each theme\n",
    "for i in range(1, 8):\n",
    "    theme_data = df[df['dispute_area'] == i].groupby('year').size().reset_index(name='counts')\n",
    "    sns.lineplot(data=theme_data, x='year', y='counts', marker='o', ax=axes[i-1])\n",
    "    axes[i-1].set_title(f'Yearly Distribution of Dispute Area {i}')\n",
    "    axes[i-1].set_xlabel('Year')\n",
    "    axes[i-1].set_ylabel('Counts')\n",
    "\n",
    "# Hide the unused subplots\n",
    "for i in range(7, 9):\n",
    "    axes[i].set_visible(False)\n",
    "\n",
    "plt.tight_layout()\n",
    "plt.show()\n"
   ]
  },
  {
   "cell_type": "code",
   "execution_count": null,
   "id": "25c93bf8-5f3b-41ea-a4fc-f6f30f544dc3",
   "metadata": {},
   "outputs": [],
   "source": [
    "pivot_df = pivot_df.apply(pd.to_numeric, errors='coerce')\n",
    "pivot_df.info()"
   ]
  },
  {
   "cell_type": "code",
   "execution_count": null,
   "id": "c7d5b1a5-9547-4db1-b12e-db1c90348ab0",
   "metadata": {},
   "outputs": [],
   "source": [
    "d_gov = df[df['types_of_perpetrator'] == 1]\n",
    "d_corp = df[df['types_of_perpetrator'] == 2]\n",
    "d_indi = df[df['types_of_perpetrator'] == 3]"
   ]
  },
  {
   "cell_type": "code",
   "execution_count": null,
   "id": "0db7b0d8-00a9-40aa-bd85-3a9667af5e2a",
   "metadata": {},
   "outputs": [],
   "source": [
    "print(len(d_gov), len(d_corp), len(d_indi))"
   ]
  },
  {
   "cell_type": "code",
   "execution_count": null,
   "id": "5013bd5d-ee58-4ed7-8d6d-3c1cdfe2b8c5",
   "metadata": {},
   "outputs": [],
   "source": [
    "# gov vs. corp vs. indi by year\n",
    "# Pivot the data to get yearly counts for each theme\n",
    "pivot_df = df.pivot_table(index='year', columns='types_of_perpetrator', aggfunc='size', fill_value=0)\n",
    "\n",
    "# Ensure all categories are represented (in case some years miss some categories)\n",
    "all_categories = df['types_of_perpetrator'].unique()\n",
    "pivot_df = pivot_df.reindex(columns=all_categories, fill_value=0)\n",
    "pivot_df = pivot_df.sort_index(axis=1)\n",
    "\n",
    "# Now pivot_df has years as index and one column for each theme with counts as values\n",
    "\n",
    "# Normalize data by dividing by row sum to get percentages\n",
    "percent_df = pivot_df.div(pivot_df.sum(axis=1), axis=0) * 100  # Convert to percentages\n",
    "\n",
    "# Prepare data for plotting\n",
    "years = pivot_df.index.astype(str)  # Extract years from the pivot table index\n",
    "categories = pivot_df.columns       # Extract category names (specific_issue)\n",
    "\n",
    "# Set up the figure and axis\n",
    "fig, ax = plt.subplots(figsize=(10, 6))\n",
    "\n",
    "# Plot stacked bars\n",
    "bottom = np.zeros(len(years))  # Initial bottom value for stacking\n",
    "\n",
    "# Loop through each category and plot a stacked bar\n",
    "for i, category in enumerate(categories):\n",
    "    ax.bar(years, percent_df[category], bottom=bottom, label=category)\n",
    "    bottom += percent_df[category].values  # Update the bottom to stack the next category\n",
    "\n",
    "    # Add percentage labels to each bar segment\n",
    "    for j, (value, percentage) in enumerate(zip(pivot_df[category], percent_df[category])):\n",
    "        if percentage > 0:  # Only show labels for non-zero percentages\n",
    "            ax.text(j, bottom[j] - (percentage / 2), f'{percentage:.1f}%', ha='center', va='center', color='white')\n",
    "\n",
    "# Customize the plot\n",
    "ax.set_xlabel('Year')\n",
    "ax.set_ylabel('Percentage (%)')\n",
    "ax.set_title('Distribution of Perpetrators by Year')\n",
    "ax.legend(title='Types of perpetrator', bbox_to_anchor=(1.05, 1), loc='upper right')\n",
    "plt.xticks(rotation=45)  # Rotate x-axis labels for readability\n",
    "plt.tight_layout()\n",
    "\n",
    "# Adjust the layout to make room for the legend\n",
    "plt.tight_layout(rect=[0, 0, 0.85, 1])  # Add more space on the right for the legend\n",
    "\n",
    "ax.set_ylim(0, 130)\n",
    "\n",
    "issue_legend = ['Gov officials or local authorities', 'Corporates', 'Individuals', 'Other or NA']\n",
    "plt.legend(issue_legend, loc='upper left')\n",
    "\n",
    "# Show the plot\n",
    "plt.show()\n"
   ]
  },
  {
   "cell_type": "code",
   "execution_count": null,
   "id": "336d052e-e82a-4de1-b702-b50924c19919",
   "metadata": {},
   "outputs": [],
   "source": [
    "# Initialize the figure with a 3x3 grid of subplots\n",
    "fig, axes = plt.subplots(2, 2, figsize=(20, 10))\n",
    "axes = axes.flatten()\n",
    "\n",
    "# Create a line plot for each theme\n",
    "for i in range(1, 4):\n",
    "    theme_data = df[df['types_of_perpetrator'] == i].groupby('year').size().reset_index(name='counts')\n",
    "    sns.lineplot(data=theme_data, x='year', y='counts', marker='o', ax=axes[i-1])\n",
    "    axes[i-1].set_title(f'Number of types_of_perpetrator {i} by year')\n",
    "    axes[i-1].set_xlabel('Year')\n",
    "    axes[i-1].set_ylabel('Counts')\n",
    "\n",
    "# Hide the unused subplots\n",
    "axes[3].set_visible(False)\n",
    "\n",
    "plt.tight_layout()\n",
    "plt.show()"
   ]
  },
  {
   "cell_type": "code",
   "execution_count": null,
   "id": "27626543-351c-4352-a414-e326151fbc7e",
   "metadata": {},
   "outputs": [],
   "source": [
    "df['types_of_perpetrator'].info()"
   ]
  },
  {
   "cell_type": "code",
   "execution_count": null,
   "id": "f90abc4a-7021-40e0-b6d2-525509820c80",
   "metadata": {},
   "outputs": [],
   "source": [
    "df_good = df[df['dispute_area'] == 1]\n",
    "\n",
    "# Pivot the data to get yearly counts for each theme\n",
    "pivot_df = df_good.pivot_table(index='year', columns='specific_issue', aggfunc='size', fill_value=0)\n",
    "\n",
    "# Ensure all categories are represented (in case some years miss some categories)\n",
    "all_categories = df_good['specific_issue'].unique()\n",
    "pivot_df = pivot_df.reindex(columns=all_categories, fill_value=0)\n",
    "pivot_df = pivot_df.sort_index(axis=1)\n",
    "\n",
    "\n",
    "# Combine the values of the -1.0 and 4.0 columns\n",
    "pivot_df['NA'] = pivot_df[-1] + pivot_df[4]\n",
    "\n",
    "# drop the original columns if they are no longer needed\n",
    "pivot_df = pivot_df.drop(columns=[-1, 4])\n",
    "\n",
    "# Display the updated dataframe\n",
    "print(pivot_df)\n",
    "\n",
    "\n",
    "# Now pivot_df has years as index and one column for each theme with counts as values\n",
    "\n",
    "# Prepare data for plotting\n",
    "years = pivot_df.index.astype(str)  # Extract years from the pivot table index\n",
    "categories = pivot_df.columns       # Extract category names (specific_issue)\n",
    "values = pivot_df.values            # Extract the counts\n",
    "\n",
    "# Set up the figure and axis\n",
    "fig, ax = plt.subplots(figsize=(10, 6))\n",
    "\n",
    "# Plot stacked bars\n",
    "bottom = np.zeros(len(years))  # Initial bottom value for stacking\n",
    "\n",
    "# Loop through each category and plot a stacked bar\n",
    "for i, category in enumerate(categories):\n",
    "    ax.bar(years, pivot_df[category], bottom=bottom, label=category)\n",
    "    bottom += pivot_df[category].values  # Update the bottom to stack the next category\n",
    "\n",
    "# Customize the plot\n",
    "ax.set_xlabel('Year')\n",
    "ax.set_ylabel('Count')\n",
    "ax.set_title('Distribution of Specific Issues by Year - Land or housing cases')\n",
    "ax.legend(title='Specific Issue', bbox_to_anchor=(1.05, 1), loc='upper left')\n",
    "plt.xticks(rotation=45)  # Rotate x-axis labels for readability\n",
    "plt.tight_layout()\n",
    "\n",
    "issue_legend = ['Land seizure or house demolition', 'Residents’ living rights', 'New or unfinished housing projects', 'Other or NA']\n",
    "plt.legend(issue_legend, loc='upper right')\n",
    "\n",
    "# Show the plot\n",
    "plt.show()\n"
   ]
  },
  {
   "cell_type": "code",
   "execution_count": null,
   "id": "b3086ff4-d6ef-403e-abac-474945cb21ea",
   "metadata": {},
   "outputs": [],
   "source": [
    "\n",
    "# Pivot the data to get yearly counts for each theme\n",
    "pivot_df = df.pivot_table(index='year', columns='dispute_area', aggfunc='size', fill_value=0)\n",
    "\n",
    "# Ensure all categories are represented (in case some years miss some categories)\n",
    "all_categories = df['dispute_area'].unique()\n",
    "pivot_df = pivot_df.reindex(columns=all_categories, fill_value=0)\n",
    "pivot_df = pivot_df.sort_index(axis=1)\n",
    "\n",
    "# Combine the values of the -1.0 and 4.0 columns\n",
    "pivot_df['NA'] = pivot_df[-1] + pivot_df[7]\n",
    "\n",
    "# Drop the original columns if they are no longer needed\n",
    "pivot_df = pivot_df.drop(columns=[-1, 7])\n",
    "\n",
    "# Normalize data by dividing by row sum to get percentages\n",
    "percent_df = pivot_df.div(pivot_df.sum(axis=1), axis=0) * 100  # Convert to percentages\n",
    "\n",
    "# Prepare data for plotting\n",
    "years = pivot_df.index.astype(str)  # Extract years from the pivot table index\n",
    "categories = pivot_df.columns       # Extract category names (specific_issue)\n",
    "\n",
    "# Set up the figure and axis\n",
    "fig, ax = plt.subplots(figsize=(10, 8))\n",
    "\n",
    "# Plot stacked bars\n",
    "bottom = np.zeros(len(years))  # Initial bottom value for stacking\n",
    "\n",
    "# Loop through each category and plot a stacked bar\n",
    "for i, category in enumerate(categories):\n",
    "    ax.bar(years, percent_df[category], bottom=bottom, label=category)\n",
    "    bottom += percent_df[category].values  # Update the bottom to stack the next category\n",
    "\n",
    "    # Add percentage labels to each bar segment\n",
    "    for j, (value, percentage) in enumerate(zip(pivot_df[category], percent_df[category])):\n",
    "        if percentage > 0:  # Only show labels for non-zero percentages\n",
    "            ax.text(j, bottom[j] - (percentage / 2), f'{percentage:.1f}%', ha='center', va='center', color='white')\n",
    "\n",
    "# Customize the plot\n",
    "ax.set_xlabel('Year')\n",
    "ax.set_ylabel('Percentage (%)')\n",
    "ax.set_title('Distribution of Dispute Areas by Year')\n",
    "ax.legend(title='Dispute areas', bbox_to_anchor=(1.05, 1), loc='upper right')\n",
    "plt.xticks(rotation=45)  # Rotate x-axis labels for readability\n",
    "plt.tight_layout()\n",
    "\n",
    "# Adjust the layout to make room for the legend\n",
    "plt.tight_layout(rect=[0, 0, 0.85, 1])  # Add more space on the right for the legend\n",
    "\n",
    "ax.set_ylim(0, 130)\n",
    "\n",
    "issue_legend = ['Land or housing', 'Financial', 'Employment', 'Policial, policing, and legal', 'Covid-19', 'Personal conflicts', 'Other or NA']\n",
    "plt.legend(issue_legend, loc='upper right')\n",
    "\n",
    "# Show the plot\n",
    "plt.show()\n",
    "\n"
   ]
  },
  {
   "cell_type": "code",
   "execution_count": null,
   "id": "dbe1202a-ecd0-465d-9c2d-d70449b0d7ed",
   "metadata": {},
   "outputs": [],
   "source": [
    "df_good = df[df['dispute_area'] == 1]\n",
    "\n",
    "# Pivot the data to get yearly counts for each theme\n",
    "pivot_df = df_good.pivot_table(index='year', columns='specific_issue', aggfunc='size', fill_value=0)\n",
    "\n",
    "# Ensure all categories are represented (in case some years miss some categories)\n",
    "all_categories = df_good['specific_issue'].unique()\n",
    "pivot_df = pivot_df.reindex(columns=all_categories, fill_value=0)\n",
    "pivot_df = pivot_df.sort_index(axis=1)\n",
    "\n",
    "# Combine the values of the -1.0 and 4.0 columns\n",
    "pivot_df['NA'] = pivot_df[-1] + pivot_df[4]\n",
    "\n",
    "# Drop the original columns if they are no longer needed\n",
    "pivot_df = pivot_df.drop(columns=[-1, 4])\n",
    "\n",
    "# Normalize data by dividing by row sum to get percentages\n",
    "percent_df = pivot_df.div(pivot_df.sum(axis=1), axis=0) * 100  # Convert to percentages\n",
    "\n",
    "# Prepare data for plotting\n",
    "years = pivot_df.index.astype(str)  # Extract years from the pivot table index\n",
    "categories = pivot_df.columns       # Extract category names (specific_issue)\n",
    "\n",
    "# Set up the figure and axis\n",
    "fig, ax = plt.subplots(figsize=(10, 6))\n",
    "\n",
    "# Plot stacked bars\n",
    "bottom = np.zeros(len(years))  # Initial bottom value for stacking\n",
    "\n",
    "# Loop through each category and plot a stacked bar\n",
    "for i, category in enumerate(categories):\n",
    "    ax.bar(years, percent_df[category], bottom=bottom, label=category)\n",
    "    bottom += percent_df[category].values  # Update the bottom to stack the next category\n",
    "\n",
    "    # Add percentage labels to each bar segment\n",
    "    for j, (value, percentage) in enumerate(zip(pivot_df[category], percent_df[category])):\n",
    "        if percentage > 0:  # Only show labels for non-zero percentages\n",
    "            ax.text(j, bottom[j] - (percentage / 2), f'{percentage:.1f}%', ha='center', va='center', color='white')\n",
    "\n",
    "# Customize the plot\n",
    "ax.set_xlabel('Year')\n",
    "ax.set_ylabel('Percentage (%)')\n",
    "ax.set_title('Distribution of Specific Issues by Year - Land or Housing Cases')\n",
    "ax.legend(title='Specific Issues', bbox_to_anchor=(1.05, 1), loc='upper right')\n",
    "plt.xticks(rotation=45)  # Rotate x-axis labels for readability\n",
    "plt.tight_layout()\n",
    "\n",
    "# Adjust the layout to make room for the legend\n",
    "plt.tight_layout(rect=[0, 0, 0.85, 1])  # Add more space on the right for the legend\n",
    "\n",
    "ax.set_ylim(0, 130)\n",
    "\n",
    "issue_legend = ['Land seizure or house demolition', 'Residents’ living rights', 'New or unfinished housing projects', 'Other or NA']\n",
    "plt.legend(issue_legend, loc='upper left')\n",
    "\n",
    "# Show the plot\n",
    "plt.show()\n",
    "\n"
   ]
  },
  {
   "cell_type": "code",
   "execution_count": null,
   "id": "126465fb-b494-41ec-b878-af11df5f70d2",
   "metadata": {},
   "outputs": [],
   "source": [
    "\n",
    "df_good = df[df['dispute_area'] == 2]\n",
    "\n",
    "# Pivot the data to get yearly counts for each theme\n",
    "pivot_df = df_good.pivot_table(index='year', columns='specific_issue', aggfunc='size', fill_value=0)\n",
    "\n",
    "# Ensure all categories are represented (in case some years miss some categories)\n",
    "all_categories = df_good['specific_issue'].unique()\n",
    "pivot_df = pivot_df.reindex(columns=all_categories, fill_value=0)\n",
    "pivot_df = pivot_df.sort_index(axis=1)\n",
    "\n",
    "# Combine the values of the -1.0 and 4.0 columns\n",
    "pivot_df['NA'] = pivot_df[-1] + pivot_df[4]\n",
    "\n",
    "# Drop the original columns if they are no longer needed\n",
    "pivot_df = pivot_df.drop(columns=[-1, 4])\n",
    "\n",
    "# Normalize data by dividing by row sum to get percentages\n",
    "percent_df = pivot_df.div(pivot_df.sum(axis=1), axis=0) * 100  # Convert to percentages\n",
    "\n",
    "# Prepare data for plotting\n",
    "years = pivot_df.index.astype(str)  # Extract years from the pivot table index\n",
    "categories = pivot_df.columns       # Extract category names (specific_issue)\n",
    "\n",
    "# Set up the figure and axis\n",
    "fig, ax = plt.subplots(figsize=(10, 6))\n",
    "\n",
    "# Plot stacked bars\n",
    "bottom = np.zeros(len(years))  # Initial bottom value for stacking\n",
    "\n",
    "# Loop through each category and plot a stacked bar\n",
    "for i, category in enumerate(categories):\n",
    "    ax.bar(years, percent_df[category], bottom=bottom, label=category)\n",
    "    bottom += percent_df[category].values  # Update the bottom to stack the next category\n",
    "\n",
    "    # Add percentage labels to each bar segment\n",
    "    for j, (value, percentage) in enumerate(zip(pivot_df[category], percent_df[category])):\n",
    "        if percentage > 0:  # Only show labels for non-zero percentages\n",
    "            ax.text(j, bottom[j] - (percentage / 2), f'{percentage:.1f}%', ha='center', va='center', color='white')\n",
    "\n",
    "# Customize the plot\n",
    "ax.set_xlabel('Year')\n",
    "ax.set_ylabel('Percentage (%)')\n",
    "ax.set_title('Distribution of Specific Issues by Year - Financial Cases')\n",
    "ax.legend(title='Specific Issues', bbox_to_anchor=(1.05, 1), loc='upper right')\n",
    "plt.xticks(rotation=45)  # Rotate x-axis labels for readability\n",
    "plt.tight_layout()\n",
    "\n",
    "# Adjust the layout to make room for the legend\n",
    "plt.tight_layout(rect=[0, 0, 0.85, 1])  # Add more space on the right for the legend\n",
    "\n",
    "ax.set_ylim(0, 130)\n",
    "\n",
    "issue_legend = ['Fraud', 'Debt', 'Business competition', 'Other or NA']\n",
    "plt.legend(issue_legend, loc='upper right')\n",
    "\n",
    "# Show the plot\n",
    "plt.show()\n",
    "\n"
   ]
  },
  {
   "cell_type": "code",
   "execution_count": null,
   "id": "42e21bf1-d92a-4cce-8dac-3860083dc073",
   "metadata": {},
   "outputs": [],
   "source": [
    "\n",
    "df_good = df[df['dispute_area'] == 4]\n",
    "\n",
    "# Pivot the data to get yearly counts for each theme\n",
    "pivot_df = df_good.pivot_table(index='year', columns='specific_issue', aggfunc='size', fill_value=0)\n",
    "\n",
    "# Ensure all categories are represented (in case some years miss some categories)\n",
    "all_categories = df_good['specific_issue'].unique()\n",
    "pivot_df = pivot_df.reindex(columns=all_categories, fill_value=0)\n",
    "pivot_df = pivot_df.sort_index(axis=1)\n",
    "\n",
    "# Combine the values of the -1.0 and 4.0 columns\n",
    "pivot_df['NA'] = pivot_df[-1] + pivot_df[5]\n",
    "\n",
    "# Drop the original columns if they are no longer needed\n",
    "pivot_df = pivot_df.drop(columns=[-1, 5])\n",
    "\n",
    "# Normalize data by dividing by row sum to get percentages\n",
    "percent_df = pivot_df.div(pivot_df.sum(axis=1), axis=0) * 100  # Convert to percentages\n",
    "\n",
    "# Prepare data for plotting\n",
    "years = pivot_df.index.astype(str)  # Extract years from the pivot table index\n",
    "categories = pivot_df.columns       # Extract category names (specific_issue)\n",
    "\n",
    "# Set up the figure and axis\n",
    "fig, ax = plt.subplots(figsize=(10, 6))\n",
    "\n",
    "# Plot stacked bars\n",
    "bottom = np.zeros(len(years))  # Initial bottom value for stacking\n",
    "\n",
    "# Loop through each category and plot a stacked bar\n",
    "for i, category in enumerate(categories):\n",
    "    ax.bar(years, percent_df[category], bottom=bottom, label=category)\n",
    "    bottom += percent_df[category].values  # Update the bottom to stack the next category\n",
    "\n",
    "    # Add percentage labels to each bar segment\n",
    "    for j, (value, percentage) in enumerate(zip(pivot_df[category], percent_df[category])):\n",
    "        if percentage > 0:  # Only show labels for non-zero percentages\n",
    "            ax.text(j, bottom[j] - (percentage / 2), f'{percentage:.1f}%', ha='center', va='center', color='white')\n",
    "\n",
    "# Customize the plot\n",
    "ax.set_xlabel('Year')\n",
    "ax.set_ylabel('Percentage (%)')\n",
    "ax.set_title('Distribution of Specific Issues by Year - Political, policing, legal Cases')\n",
    "ax.legend(title='Specific Issues', bbox_to_anchor=(1.05, 1), loc='upper right')\n",
    "plt.xticks(rotation=45)  # Rotate x-axis labels for readability\n",
    "plt.tight_layout()\n",
    "\n",
    "# Adjust the layout to make room for the legend\n",
    "plt.tight_layout(rect=[0, 0, 0.85, 1])  # Add more space on the right for the legend\n",
    "\n",
    "ax.set_ylim(0, 140)\n",
    "\n",
    "issue_legend = ['Official corruption', 'Village election', 'Policing', 'Legal cases', 'Other or NA']\n",
    "plt.legend(issue_legend, loc='upper right')\n",
    "\n",
    "# Show the plot\n",
    "plt.show()\n",
    "\n"
   ]
  },
  {
   "cell_type": "code",
   "execution_count": null,
   "id": "9f85db61-d736-4e90-9f6a-21a8825e1edc",
   "metadata": {},
   "outputs": [],
   "source": [
    "# import matplotlib as mpl\n",
    "# mpl.get_cachedir() #dind the path of cache\n",
    "# !open /Users/qi/.matplotlib"
   ]
  },
  {
   "cell_type": "code",
   "execution_count": null,
   "id": "e0b6a4ee-1ec7-4530-8398-be3008907970",
   "metadata": {},
   "outputs": [],
   "source": [
    "df['province'].value_counts()"
   ]
  },
  {
   "cell_type": "code",
   "execution_count": null,
   "id": "0f5d9a1f-bc04-42cd-9648-d966ec0f0bda",
   "metadata": {},
   "outputs": [],
   "source": [
    "to_pinyin = {\n",
    "    '安徽': 'Anhui',\n",
    "    '北京': 'Beijing',\n",
    "    '重庆': 'Chongqing',\n",
    "    '福建': 'Fujian',\n",
    "    '甘肃': 'Gansu',\n",
    "    '广东': 'Guangdong',\n",
    "    '广西': 'Guangxi',\n",
    "    '贵州': 'Guizhou',\n",
    "    '海南': 'Hainan',\n",
    "    '河北': 'Hebei',\n",
    "    '黑龙江': 'Heilongjiang',\n",
    "    '河南': 'Henan',\n",
    "    '湖北': 'Hubei',\n",
    "    '湖南': 'Hunan',\n",
    "    '内蒙古': 'Inner Mongolia',\n",
    "    '江苏': 'Jiangsu',\n",
    "    '江西': 'Jiangxi',\n",
    "    '吉林': 'Jilin',\n",
    "    '辽宁': 'Liaoning',\n",
    "    '宁夏': 'Ningxia',\n",
    "    '青海': 'Qinghai',\n",
    "    '陕西': 'Shaanxi',\n",
    "    '山东': 'Shandong',\n",
    "    '上海': 'Shanghai',\n",
    "    '山西': 'Shanxi',\n",
    "    '四川': 'Sichuan',\n",
    "    '天津': 'Tianjin',\n",
    "    '西藏': 'Tibet',\n",
    "    '新疆': 'Xinjiang',\n",
    "    '云南': 'Yunnan',\n",
    "    '浙江': 'Zhejiang'\n",
    "}\n",
    "df['province'] = df['province'].replace(to_pinyin)"
   ]
  },
  {
   "cell_type": "code",
   "execution_count": null,
   "id": "a1fc24c4-84fa-42b5-aaa9-ef227e426667",
   "metadata": {},
   "outputs": [],
   "source": [
    "# Province\n",
    "vc_p = df['province'].value_counts().sort_values(ascending=False)\n",
    "\n",
    "# Convert to DataFrame for plotting\n",
    "vc_df = vc_p.reset_index()\n",
    "vc_df.columns = ['Province', 'Count']\n",
    "\n",
    "plt.rcParams['font.sans-serif']=['SimHei'] #用来正常显示中文标签\n",
    "plt.rcParams['axes.unicode_minus']=False #用来正常显示负号\n",
    "\n",
    "# Set up Matplotlib to use a font that supports Chinese characters\n",
    "from matplotlib import rcParams\n",
    "rcParams['font.sans-serif'] = ['SimHei']  # Use SimHei or another font that supports Chinese\n",
    "rcParams['axes.unicode_minus'] = False   # Ensure negative signs are displayed correctly\n",
    "\n",
    "# Plotting\n",
    "plt.figure(figsize=(12, 8))\n",
    "sns.barplot(data=vc_df, x='Province', y='Count', palette='viridis')\n",
    "plt.xticks(rotation=90)\n",
    "# plt.title('Number of cases by province')\n",
    "plt.xlabel('Provinces')\n",
    "plt.ylabel('Counts')\n",
    "plt.xticks(rotation=45)  # Rotate x-axis labels for readability\n",
    "plt.savefig('province_counts.jpg')"
   ]
  },
  {
   "cell_type": "code",
   "execution_count": null,
   "id": "18b24f40-511a-450c-89e7-d579e6454470",
   "metadata": {
    "scrolled": true
   },
   "outputs": [],
   "source": [
    "df['types_of_perpetrator'].astype(str)"
   ]
  },
  {
   "cell_type": "code",
   "execution_count": null,
   "id": "cd89d542-33be-4f2a-9740-7894150de2db",
   "metadata": {
    "scrolled": true
   },
   "outputs": [],
   "source": [
    "df.info()"
   ]
  },
  {
   "cell_type": "code",
   "execution_count": null,
   "id": "84316315-897d-403d-b88d-2122426675cd",
   "metadata": {},
   "outputs": [],
   "source": [
    "df.to_excel('../all_tweets_cleaned_final.xlsx')"
   ]
  },
  {
   "cell_type": "code",
   "execution_count": null,
   "id": "e54a73eb-8c8d-4f8c-8585-ebb9dd6a3f0e",
   "metadata": {},
   "outputs": [],
   "source": []
  },
  {
   "cell_type": "code",
   "execution_count": null,
   "id": "8dd91ef8-e8cc-441e-805d-49e2f6a0a6a6",
   "metadata": {},
   "outputs": [],
   "source": []
  }
 ],
 "metadata": {
  "kernelspec": {
   "display_name": "Python 3 (ipykernel)",
   "language": "python",
   "name": "python3"
  },
  "language_info": {
   "codemirror_mode": {
    "name": "ipython",
    "version": 3
   },
   "file_extension": ".py",
   "mimetype": "text/x-python",
   "name": "python",
   "nbconvert_exporter": "python",
   "pygments_lexer": "ipython3",
   "version": "3.12.1"
  }
 },
 "nbformat": 4,
 "nbformat_minor": 5
}
