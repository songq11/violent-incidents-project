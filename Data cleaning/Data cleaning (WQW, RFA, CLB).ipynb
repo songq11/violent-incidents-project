{
 "cells": [
  {
   "cell_type": "code",
   "execution_count": null,
   "id": "978b3171-d710-43ba-82f9-b18f913f058b",
   "metadata": {},
   "outputs": [],
   "source": [
    "# This notebook cleans up data from WQW, RFA, and CLB"
   ]
  },
  {
   "cell_type": "code",
   "execution_count": null,
   "id": "cf96482e-9e1b-4bed-9d56-74858fbfc92e",
   "metadata": {},
   "outputs": [],
   "source": [
    "import pandas as pd\n",
    "import numpy as np"
   ]
  },
  {
   "cell_type": "markdown",
   "id": "8221bb14-f81f-4504-8735-18c11dc67ccc",
   "metadata": {},
   "source": [
    "# WQW"
   ]
  },
  {
   "cell_type": "code",
   "execution_count": null,
   "id": "fdfcf5ca-83b6-4a31-b277-8ebf42a98f9e",
   "metadata": {},
   "outputs": [],
   "source": [
    "df = pd.read_parquet(\"../WQW/all_posts_wqw.parquet\")"
   ]
  },
  {
   "cell_type": "code",
   "execution_count": null,
   "id": "c5c08c80-4ccd-40dc-9445-4e6d00fc7870",
   "metadata": {},
   "outputs": [],
   "source": [
    "df.info()"
   ]
  },
  {
   "cell_type": "code",
   "execution_count": null,
   "id": "6007975c-66b4-40a9-9016-6ee55d33b539",
   "metadata": {},
   "outputs": [],
   "source": [
    "keywords = '维权网|良心犯|中国维权动态'\n",
    "df_filter = df[df['title'].str.contains(keywords)]"
   ]
  },
  {
   "cell_type": "code",
   "execution_count": null,
   "id": "c037153e-7d0c-4c42-81dc-9e28e4f30b61",
   "metadata": {
    "scrolled": true
   },
   "outputs": [],
   "source": [
    "pd.set_option('display.max_rows', None)\n",
    "pd.set_option('display.max_colwidth', None)\n",
    "df_filter['title']"
   ]
  },
  {
   "cell_type": "code",
   "execution_count": null,
   "id": "94614a81-1da7-469b-b102-166363c5037b",
   "metadata": {},
   "outputs": [],
   "source": [
    "df_filter.info()"
   ]
  },
  {
   "cell_type": "code",
   "execution_count": null,
   "id": "72616b13-1a98-41e8-b92a-0338b0c40bf3",
   "metadata": {},
   "outputs": [],
   "source": [
    "# Get paragraphs that contain keywords\n",
    "import re\n",
    "\n",
    "# Define the keywords\n",
    "keywords = ['黑社会', '打手', '小混混', '闲散人员', '地痞流氓']\n",
    "\n",
    "def get_paragraphs(text, keywords):\n",
    "    paragraphs = text.split('\\n')\n",
    "    # Filter paragraphs that contain any of the keywords\n",
    "    filtered_paragraphs = [para for para in paragraphs if any(keyword in para for keyword in keywords)]\n",
    "    return filtered_paragraphs\n",
    "\n",
    "# Apply the function to the DataFrame\n",
    "df_filter['result'] = df_filter['content'].apply(lambda x: get_paragraphs(x, keywords))\n",
    "df_filter = df_filter[['blogid', 'posted_date', 'result']]"
   ]
  },
  {
   "cell_type": "code",
   "execution_count": null,
   "id": "7368e81c-9bc4-4e5b-a675-ce933035ca62",
   "metadata": {},
   "outputs": [],
   "source": [
    "# split lists into dataframes\n",
    "all_exploded_df = df_filter.explode('result')"
   ]
  },
  {
   "cell_type": "code",
   "execution_count": null,
   "id": "d858e988-ae91-41c6-bebf-e21eb5f847b7",
   "metadata": {},
   "outputs": [],
   "source": [
    "# Select rows with unique values in the 'column_name' column\n",
    "unique_df = all_exploded_df.drop_duplicates(subset=['result'])\n",
    "unique_df.info()"
   ]
  },
  {
   "cell_type": "code",
   "execution_count": null,
   "id": "4d680630-d02b-4c7c-8874-d8e807d7168c",
   "metadata": {},
   "outputs": [],
   "source": [
    "# drop repetitive content/names using Levenshtein distance\n",
    "from tqdm import tqdm\n",
    "from Levenshtein import distance\n",
    "from Levenshtein import ratio\n",
    "\n",
    "def levenshtein_distance_matrix(strings):\n",
    "    n = len(strings)\n",
    "    # Initialize an n x n matrix with zeros\n",
    "    matrix = np.zeros((n, n), dtype=np.float64)\n",
    "\n",
    "    for i in tqdm(range(n)):\n",
    "        for j in range(i+1, n):\n",
    "            matrix[i, j] = ratio(strings[i], strings[j])\n",
    "\n",
    "    return matrix\n",
    "\n",
    "# Get the column as a list\n",
    "column_list = unique_df['result'].tolist()\n",
    "\n",
    "# Calculate the matrix\n",
    "distance_matrix = levenshtein_distance_matrix(column_list)\n",
    "\n",
    "scores = distance_matrix.flatten()\n",
    "\n",
    "# plot histogram of scores\n",
    "import matplotlib.pyplot as plt\n",
    "plt.hist(scores)"
   ]
  },
  {
   "cell_type": "code",
   "execution_count": null,
   "id": "63818939-2ea4-4200-a263-95c67a845982",
   "metadata": {},
   "outputs": [],
   "source": [
    "count = np.sum(distance_matrix > 0.8)\n",
    "count"
   ]
  },
  {
   "cell_type": "code",
   "execution_count": null,
   "id": "54916d50-c9f2-4b88-ad9e-874bddf5f83c",
   "metadata": {},
   "outputs": [],
   "source": [
    "# Find indices where the ratios are at least 0.8\n",
    "rows, cols = np.where(distance_matrix > 0.8)\n",
    "\n",
    "kept = set(range(len(column_list)))\n",
    "for i, j in zip(rows, cols):\n",
    "    if i in kept and j in kept:\n",
    "        if len(column_list[i]) < len(column_list[j]):\n",
    "            kept.remove(i)\n",
    "        else:\n",
    "            kept.remove(j)\n",
    "\n",
    "df_kept = unique_df.iloc[sorted(kept)]"
   ]
  },
  {
   "cell_type": "code",
   "execution_count": null,
   "id": "5d7d2ed7-f496-46a4-989e-54bb52bd227b",
   "metadata": {},
   "outputs": [],
   "source": [
    "df_kept.info()"
   ]
  },
  {
   "cell_type": "code",
   "execution_count": null,
   "id": "0562dac9-5c3e-4890-b09b-41290bbfb551",
   "metadata": {},
   "outputs": [],
   "source": [
    "# data remained to clean: df excluding df_filter\n",
    "mask_df = df['blogid'].isin(df_filter['blogid'])\n",
    "df_rest = df[~mask_df]"
   ]
  },
  {
   "cell_type": "code",
   "execution_count": null,
   "id": "1a5312e9-2c36-4d90-a1da-ed0698dc70ad",
   "metadata": {},
   "outputs": [],
   "source": [
    "df_rest.info()"
   ]
  },
  {
   "cell_type": "code",
   "execution_count": null,
   "id": "03913f32-7854-4157-b51f-c5c54b50b3d8",
   "metadata": {},
   "outputs": [],
   "source": [
    "df_filter.info()"
   ]
  },
  {
   "cell_type": "code",
   "execution_count": null,
   "id": "395a8e10-704e-4d16-acc2-9fd1a031ed1a",
   "metadata": {
    "scrolled": true
   },
   "outputs": [],
   "source": [
    "pd.set_option('display.max_rows', None)\n",
    "pd.set_option('display.max_colwidth', None)\n",
    "df_rest[['title', 'blogid']]"
   ]
  },
  {
   "cell_type": "code",
   "execution_count": null,
   "id": "672832a1-babf-4297-938f-796fdcee2fa8",
   "metadata": {},
   "outputs": [],
   "source": [
    "# Concatenate df_kept and df_rest\n",
    "df_kept.rename(columns = {\"result\": \"content\"}, inplace = True)\n",
    "df_all = pd.concat([df_rest, df_kept])\n",
    "df_all.info()"
   ]
  },
  {
   "cell_type": "code",
   "execution_count": null,
   "id": "82a6be3d-9531-48da-bc09-6939fb0d67a7",
   "metadata": {},
   "outputs": [],
   "source": [
    "df_all.to_excel('../WQW/cleaned_data_wqw.xlsx')"
   ]
  },
  {
   "cell_type": "markdown",
   "id": "aa67a451-b332-423a-b6c8-a62d902156c9",
   "metadata": {},
   "source": [
    "# rfa"
   ]
  },
  {
   "cell_type": "code",
   "execution_count": null,
   "id": "0a2dd625-34a0-4f23-9a1e-4a8fa901aa29",
   "metadata": {},
   "outputs": [],
   "source": [
    "rfa_df = pd.read_excel(\"../rfa/google_results_rfa.xlsx\")"
   ]
  },
  {
   "cell_type": "code",
   "execution_count": null,
   "id": "e218b03a-aaa4-4efd-8ca6-e458a38cff63",
   "metadata": {
    "scrolled": true
   },
   "outputs": [],
   "source": [
    "rfa_df.info()"
   ]
  },
  {
   "cell_type": "code",
   "execution_count": null,
   "id": "0bdf7bb0-4f3e-4b00-9bb6-24599b1b322a",
   "metadata": {},
   "outputs": [],
   "source": [
    "pd.set_option('display.max_colwidth', None)\n",
    "pd .set_option('display.max_rows', None)\n",
    "rfa_df[['blogid', 'title']]"
   ]
  },
  {
   "cell_type": "code",
   "execution_count": null,
   "id": "7f2ea37b-4a24-45e8-a384-b4caa8264686",
   "metadata": {},
   "outputs": [],
   "source": [
    "# Drop \"pinglun\" articles\n",
    "keyword = 'www.rfa.org/mandarin/pinglun'\n",
    "df_drop = rfa_df['blogid'].str.contains(keyword)\n",
    "rfa_df = rfa_df[~df_drop]"
   ]
  },
  {
   "cell_type": "code",
   "execution_count": null,
   "id": "e5c26f7d-9fdd-4f5e-ae19-59fef0d2f955",
   "metadata": {},
   "outputs": [],
   "source": [
    "keyword = '简要新闻|选读来信'\n",
    "rfa_df_filter = rfa_df[rfa_df['title'].str.contains(keyword)]"
   ]
  },
  {
   "cell_type": "code",
   "execution_count": null,
   "id": "feeb6f86-0807-4490-a235-460924bf730d",
   "metadata": {},
   "outputs": [],
   "source": [
    "rfa_df_filter['content']"
   ]
  },
  {
   "cell_type": "code",
   "execution_count": null,
   "id": "2e2fb154-87ea-4b01-bec0-55dbe547728c",
   "metadata": {},
   "outputs": [],
   "source": [
    "# Get paragraphs that contain keywords\n",
    "import re\n",
    "\n",
    "# Define the keywords\n",
    "keywords = ['黑社会', '打手', '小混混', '社会闲散人员', '地痞流氓']\n",
    "\n",
    "def get_paragraphs(text, keywords):\n",
    "    paragraphs = text.split('\\n\\n\\n\\n\\n')\n",
    "    # Filter paragraphs that contain any of the keywords\n",
    "    filtered_paragraphs = [para for para in paragraphs if any(keyword in para for keyword in keywords)]\n",
    "    return filtered_paragraphs\n",
    "\n",
    "# Apply the function to the DataFrame\n",
    "rfa_df_filter['result'] = rfa_df_filter['content'].apply(lambda x: get_paragraphs(x, keywords))\n",
    "rfa_df_filter = rfa_df_filter[['blogid', 'posted_date', 'result']]"
   ]
  },
  {
   "cell_type": "code",
   "execution_count": null,
   "id": "e65439d0-70ea-4e57-9b57-2467c6b51ca5",
   "metadata": {},
   "outputs": [],
   "source": [
    "# split lists into dataframes\n",
    "rfa_exploded_df = rfa_df_filter.explode('result')\n",
    "rfa_exploded_df"
   ]
  },
  {
   "cell_type": "code",
   "execution_count": null,
   "id": "c1a87e8d-82eb-43d2-8053-521c4d9c8c19",
   "metadata": {},
   "outputs": [],
   "source": [
    "# Select rows with unique values in the 'result' column\n",
    "rfa_unique_df = rfa_exploded_df.drop_duplicates(subset=['result'])\n",
    "rfa_unique_df"
   ]
  },
  {
   "cell_type": "code",
   "execution_count": null,
   "id": "902031b3-5dbb-4714-982d-db804dcc596d",
   "metadata": {},
   "outputs": [],
   "source": [
    "rfa_selected = rfa_unique_df.iloc[[1, 3, 4, 5, 7]]"
   ]
  },
  {
   "cell_type": "code",
   "execution_count": null,
   "id": "efb54bca-fccd-4414-8939-bd220dbfd77f",
   "metadata": {},
   "outputs": [],
   "source": [
    "# zhuanlan articles\n",
    "keyword = 'zhuanlan'\n",
    "rfa_review = rfa_to_clean[rfa_to_clean['blogid'].str.contains(keyword)]"
   ]
  },
  {
   "cell_type": "code",
   "execution_count": null,
   "id": "db9edfcf-5651-416d-9620-761fecd467b2",
   "metadata": {},
   "outputs": [],
   "source": [
    "pd.set_option('display.max_colwidth', None)\n",
    "pd .set_option('display.max_rows', None)\n",
    "rfa_review['title']"
   ]
  },
  {
   "cell_type": "code",
   "execution_count": null,
   "id": "cd7a18fe-d4a1-4979-af49-afa66f85e12c",
   "metadata": {},
   "outputs": [],
   "source": [
    "# data remained to clean: df excluding df_filter\n",
    "mask_df = rfa_df['blogid'].isin(rfa_df_filter['blogid'])\n",
    "rfa_df_rest = rfa_df[~mask_df]"
   ]
  },
  {
   "cell_type": "code",
   "execution_count": null,
   "id": "7801de77-d88f-46fd-833c-3c3d8cbf8810",
   "metadata": {},
   "outputs": [],
   "source": [
    "rfa_df_rest.info()"
   ]
  },
  {
   "cell_type": "code",
   "execution_count": null,
   "id": "dc316060-45d0-44b7-b36e-ecf24fb434a0",
   "metadata": {
    "scrolled": true
   },
   "outputs": [],
   "source": [
    "pd.set_option('display.max_colwidth', None)\n",
    "pd .set_option('display.max_rows', None)\n",
    "rfa_df_rest[['blogid', 'title']]"
   ]
  },
  {
   "cell_type": "code",
   "execution_count": null,
   "id": "ee964574-f6e5-4787-8afc-a4f9967635c7",
   "metadata": {},
   "outputs": [],
   "source": [
    "# Concatenate df_kept and df_rest\n",
    "rfa_selected.rename(columns = {\"result\": \"content\"}, inplace = True)\n",
    "rfa_df_all = pd.concat([rfa_df_rest, rfa_selected])\n",
    "rfa_df_all.info()"
   ]
  },
  {
   "cell_type": "code",
   "execution_count": null,
   "id": "dd6cc950-47f1-48ee-ba26-936683087593",
   "metadata": {},
   "outputs": [],
   "source": [
    "rfa_df_all.to_excel('../rfa/cleaned_data_with_google_results_rfa.xlsx')"
   ]
  },
  {
   "cell_type": "markdown",
   "id": "c09a1198-4735-470d-8179-455cbbf286b0",
   "metadata": {},
   "source": [
    "# CLB"
   ]
  },
  {
   "cell_type": "code",
   "execution_count": null,
   "id": "994600a6-6507-47b1-8ba2-06bd2a99eef4",
   "metadata": {},
   "outputs": [],
   "source": [
    "clb_all = pd.read_excel(\"../CLB/all_posts_clb.xlsx\")\n",
    "clb_df = pd.read_excel(\"../CLB/all_posts_clb_labeled_part1.xlsx\")"
   ]
  },
  {
   "cell_type": "code",
   "execution_count": null,
   "id": "b40fd3b8-fb9b-4097-bc93-73498bc22a01",
   "metadata": {},
   "outputs": [],
   "source": [
    "mask = clb_all['blogid'].isin(clb_df['blogid'])\n",
    "clb_to_clean = clb_all[~mask]\n",
    "clb_to_clean.to_excel(\"../CLB/all_posts_clb_labeled_part2.xlsx\")"
   ]
  },
  {
   "cell_type": "code",
   "execution_count": null,
   "id": "9456771c-0169-4160-aca2-5fb1b56d0627",
   "metadata": {},
   "outputs": [],
   "source": [
    "clb_df2 = pd.read_excel(\"../CLB/all_posts_clb_labeled_part2.xlsx\")"
   ]
  },
  {
   "cell_type": "code",
   "execution_count": null,
   "id": "92e5ba70-c246-41a0-a8ec-027d551c0028",
   "metadata": {},
   "outputs": [],
   "source": [
    "clb_df1_rel = clb_df[clb_df['relevance'] == 1]\n",
    "clb_df2_rel = clb_df2[clb_df2['relevance'] == 1]"
   ]
  },
  {
   "cell_type": "code",
   "execution_count": null,
   "id": "b44d3a19-755c-4df2-b28a-190090f39c67",
   "metadata": {},
   "outputs": [],
   "source": [
    "rel_df = pd.concat([clb_df1_rel, clb_df2_rel])\n",
    "rel_df.info()"
   ]
  },
  {
   "cell_type": "code",
   "execution_count": null,
   "id": "e10aa668-ce2f-468e-b9ff-b497b4d07a47",
   "metadata": {},
   "outputs": [],
   "source": [
    "rel_df = rel_df.drop(['Unnamed: 0', 'relevance'], axis = 1)"
   ]
  },
  {
   "cell_type": "code",
   "execution_count": null,
   "id": "59690dc7-f12c-4383-8104-4f69b008296d",
   "metadata": {},
   "outputs": [],
   "source": [
    "rel_df.to_excel(\"../CLB/cleaned_data_clb.xlsx\")"
   ]
  },
  {
   "cell_type": "markdown",
   "id": "114134e3-a3ed-4a50-a624-040371e33b13",
   "metadata": {},
   "source": [
    "# Combine three datasets"
   ]
  },
  {
   "cell_type": "code",
   "execution_count": null,
   "id": "03e058e2-fba3-45c2-9fbe-d54f8349ef48",
   "metadata": {},
   "outputs": [],
   "source": [
    "import pandas as pd\n",
    "wqw_df = pd.read_excel('../WQW/cleaned_data_wqw.xlsx')\n",
    "rfa_df = pd.read_excel('../rfa/cleaned_data_with_google_results_rfa.xlsx')\n",
    "clb_df = pd.read_excel(\"../CLB/cleaned_data_clb.xlsx\")"
   ]
  },
  {
   "cell_type": "code",
   "execution_count": null,
   "id": "45569247-9d45-46cf-b787-63c6d5d400c6",
   "metadata": {},
   "outputs": [],
   "source": [
    "wqw_df['source'] = 'wqw'\n",
    "rfa_df['source'] = 'rfa'\n",
    "clb_df['source'] = 'clb'"
   ]
  },
  {
   "cell_type": "code",
   "execution_count": null,
   "id": "fb0f123e-1c7d-4b95-994c-aa246c216b01",
   "metadata": {},
   "outputs": [],
   "source": [
    "all_df = pd.concat([wqw_df, rfa_df, clb_df])"
   ]
  },
  {
   "cell_type": "code",
   "execution_count": null,
   "id": "00512706-d919-482f-a564-3f4ece2888b1",
   "metadata": {},
   "outputs": [],
   "source": [
    "all_df = all_df.drop(['Unnamed: 0'], axis = 1)"
   ]
  },
  {
   "cell_type": "code",
   "execution_count": null,
   "id": "cb70e2b9-b5d7-4ebc-9e7c-4ddc246deab5",
   "metadata": {},
   "outputs": [],
   "source": [
    "all_df.info()"
   ]
  },
  {
   "cell_type": "code",
   "execution_count": null,
   "id": "a37f5582-051b-47d8-a1a1-dce320d39a82",
   "metadata": {},
   "outputs": [],
   "source": [
    "all_df[all_df['content'].isna()] "
   ]
  },
  {
   "cell_type": "code",
   "execution_count": null,
   "id": "eda3c0b0-a4ab-4084-b94d-149e41861711",
   "metadata": {},
   "outputs": [],
   "source": [
    "all_df = all_df.dropna(subset = ['content'])"
   ]
  },
  {
   "cell_type": "code",
   "execution_count": null,
   "id": "5dd15ab1-38a4-41df-83c5-e355432b2bda",
   "metadata": {},
   "outputs": [],
   "source": [
    "all_df.to_excel('../supplementary_data/multiple_source_data.xlsx')"
   ]
  },
  {
   "cell_type": "code",
   "execution_count": null,
   "id": "04d0d95a-a0e3-4a59-8dce-8eb64875a72e",
   "metadata": {},
   "outputs": [],
   "source": []
  }
 ],
 "metadata": {
  "kernelspec": {
   "display_name": "Python 3 (ipykernel)",
   "language": "python",
   "name": "python3"
  },
  "language_info": {
   "codemirror_mode": {
    "name": "ipython",
    "version": 3
   },
   "file_extension": ".py",
   "mimetype": "text/x-python",
   "name": "python",
   "nbconvert_exporter": "python",
   "pygments_lexer": "ipython3",
   "version": "3.12.1"
  }
 },
 "nbformat": 4,
 "nbformat_minor": 5
}
